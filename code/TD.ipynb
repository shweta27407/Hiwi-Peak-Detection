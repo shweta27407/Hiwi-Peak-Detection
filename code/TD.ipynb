{
 "cells": [
  {
   "cell_type": "code",
   "execution_count": 1,
   "metadata": {},
   "outputs": [],
   "source": [
    "import numpy as np\n",
    "import pandas as pd\n",
    "import matplotlib.pyplot as plt\n",
    "from tensorly.decomposition import parafac\n",
    "from tensorly import cp_to_tensor\n",
    "from sklearn.preprocessing import MinMaxScaler, StandardScaler\n",
    "import torch\n",
    "import tensorly as tl\n",
    "tl.set_backend('pytorch')\n",
    "import pickle\n",
    "import os"
   ]
  },
  {
   "cell_type": "code",
   "execution_count": 2,
   "metadata": {},
   "outputs": [],
   "source": [
    "df = pd.read_csv('C:/Users/genty/Hiwi-TimeSeries/dataset/DatAmount_dataset_new/1_CMX/CMX1_S_CP2.csv')\n",
    "#df = df.head(1000)\n",
    "target = 'CURRENT|6'\n",
    "features = [\n",
    "       'LOAD|1', 'LOAD|2', 'LOAD|3', 'LOAD|6',\n",
    "       'ENC_POS|1', 'ENC_POS|2', 'ENC_POS|3','ENC_POS|6',\n",
    "       'CTRL_DIFF2|1', 'CTRL_DIFF2|2', 'CTRL_DIFF2|3', 'CTRL_DIFF2|6',\n",
    "       'TORQUE|1', 'TORQUE|2', 'TORQUE|3', 'TORQUE|6',\n",
    "       'DES_POS|1', 'DES_POS|2', 'DES_POS|3', 'DES_POS|6',\n",
    "\n",
    "       #'CURRENT|1', 'CURRENT|2', 'CURRENT|3',\n",
    "        \n",
    "\n",
    "       'CTRL_DIFF|1', 'CTRL_DIFF|2', 'CTRL_DIFF|3' ,'CTRL_DIFF|6',\n",
    "       'CTRL_POS|1', 'CTRL_POS|2', 'CTRL_POS|3', 'CTRL_POS|6',\n",
    "       'VEL_FFW|1', 'VEL_FFW|2','VEL_FFW|3', 'VEL_FFW|6',\n",
    "       #'POWER|1','POWER|2', 'POWER|3', 'POWER|6',\n",
    "       'CONT_DEV|1','CONT_DEV|2', 'CONT_DEV|3', 'CONT_DEV|6',\n",
    "       #'A_DBD|0',\n",
    "       'CMD_SPEED|1', 'CMD_SPEED|2', 'CMD_SPEED|3', 'CMD_SPEED|6',\n",
    "       'TORQUE_FFW|1', 'TORQUE_FFW|2', 'TORQUE_FFW|3', 'TORQUE_FFW|6',\n",
    "       'ENC1_POS|1', 'ENC1_POS|2', 'ENC1_POS|3','ENC1_POS|6',\n",
    "       'ENC2_POS|1', 'ENC2_POS|2', 'ENC2_POS|3', 'ENC2_POS|6']\n",
    "X = df[features]\n",
    "y = df[[target]]\n"
   ]
  },
  {
   "cell_type": "code",
   "execution_count": 3,
   "metadata": {},
   "outputs": [],
   "source": [
    "scaler_X = MinMaxScaler(feature_range=(0, 1))\n",
    "scaler_y = MinMaxScaler(feature_range=(0, 1))\n",
    "features_normalized = scaler_X.fit_transform(X)\n",
    "target_norm = scaler_y.fit_transform(y)\n",
    "\n",
    "tensor = features_normalized.T[np.newaxis, :, :]\n",
    "tensor = tensor.astype(np.float32)\n",
    "tensor = torch.tensor(tensor)"
   ]
  },
  {
   "cell_type": "markdown",
   "metadata": {},
   "source": [
    "## CANDECOMP/PARAFAC (Canonical Decomposition/Parallel Factorization)"
   ]
  },
  {
   "cell_type": "markdown",
   "metadata": {},
   "source": [
    "CP decomposition expresses a tensor as a sum of a finite number of rank-1 tensors."
   ]
  },
  {
   "cell_type": "code",
   "execution_count": null,
   "metadata": {},
   "outputs": [],
   "source": [
    "rank = 5\n",
    "weights, factors = parafac(tensor, rank=rank)\n",
    "\n",
    "reconstructed_tensor = cp_to_tensor((weights, factors))\n",
    "\n",
    "print(\"Factor Matrices:\")\n",
    "for i, factor in enumerate(factors):\n",
    "    print(f\"Mode {i+1}: Shape {factor.shape}\")"
   ]
  },
  {
   "cell_type": "code",
   "execution_count": 28,
   "metadata": {},
   "outputs": [
    {
     "name": "stdout",
     "output_type": "stream",
     "text": [
      "\n",
      "Reconstruction Error: 0.42314\n"
     ]
    }
   ],
   "source": [
    "error = np.linalg.norm(tensor - reconstructed_tensor) / np.linalg.norm(tensor)\n",
    "print(f\"\\nReconstruction Error: {error:.5f}\")"
   ]
  },
  {
   "cell_type": "markdown",
   "metadata": {},
   "source": [
    "#### Multiple Rank values"
   ]
  },
  {
   "cell_type": "code",
   "execution_count": 46,
   "metadata": {},
   "outputs": [],
   "source": [
    "ranks = [5, 10, 15, 20, 25]\n",
    "reconstruction_errors = []"
   ]
  },
  {
   "cell_type": "code",
   "execution_count": 47,
   "metadata": {},
   "outputs": [
    {
     "ename": "MemoryError",
     "evalue": "Unable to allocate 40.7 TiB for an array with shape (2364336, 2364336) and data type float64",
     "output_type": "error",
     "traceback": [
      "\u001b[1;31m---------------------------------------------------------------------------\u001b[0m",
      "\u001b[1;31mMemoryError\u001b[0m                               Traceback (most recent call last)",
      "Cell \u001b[1;32mIn[47], line 2\u001b[0m\n\u001b[0;32m      1\u001b[0m \u001b[38;5;28;01mfor\u001b[39;00m rank \u001b[38;5;129;01min\u001b[39;00m ranks:\n\u001b[1;32m----> 2\u001b[0m     weights, factors \u001b[38;5;241m=\u001b[39m \u001b[43mparafac\u001b[49m\u001b[43m(\u001b[49m\u001b[43mtensor\u001b[49m\u001b[43m,\u001b[49m\u001b[43m \u001b[49m\u001b[43mrank\u001b[49m\u001b[38;5;241;43m=\u001b[39;49m\u001b[43mrank\u001b[49m\u001b[43m)\u001b[49m\n\u001b[0;32m      3\u001b[0m     reconstructed_tensor \u001b[38;5;241m=\u001b[39m cp_to_tensor((weights, factors))\n\u001b[0;32m      4\u001b[0m     error \u001b[38;5;241m=\u001b[39m np\u001b[38;5;241m.\u001b[39mlinalg\u001b[38;5;241m.\u001b[39mnorm(tensor \u001b[38;5;241m-\u001b[39m reconstructed_tensor) \u001b[38;5;241m/\u001b[39m np\u001b[38;5;241m.\u001b[39mlinalg\u001b[38;5;241m.\u001b[39mnorm(tensor)\n",
      "File \u001b[1;32m~\\AppData\\Roaming\\Python\\Python312\\site-packages\\tensorly\\decomposition\\_cp.py:338\u001b[0m, in \u001b[0;36mparafac\u001b[1;34m(tensor, rank, n_iter_max, init, svd, normalize_factors, orthogonalise, tol, random_state, verbose, return_errors, sparsity, l2_reg, mask, cvg_criterion, fixed_modes, svd_mask_repeats, linesearch, callback)\u001b[0m\n\u001b[0;32m    335\u001b[0m     acc_fail \u001b[38;5;241m=\u001b[39m \u001b[38;5;241m0\u001b[39m  \u001b[38;5;66;03m# How many times acceleration have failed\u001b[39;00m\n\u001b[0;32m    336\u001b[0m     max_fail \u001b[38;5;241m=\u001b[39m \u001b[38;5;241m4\u001b[39m  \u001b[38;5;66;03m# Increase acc_pow with one after max_fail failure\u001b[39;00m\n\u001b[1;32m--> 338\u001b[0m weights, factors \u001b[38;5;241m=\u001b[39m \u001b[43minitialize_cp\u001b[49m\u001b[43m(\u001b[49m\n\u001b[0;32m    339\u001b[0m \u001b[43m    \u001b[49m\u001b[43mtensor\u001b[49m\u001b[43m,\u001b[49m\n\u001b[0;32m    340\u001b[0m \u001b[43m    \u001b[49m\u001b[43mrank\u001b[49m\u001b[43m,\u001b[49m\n\u001b[0;32m    341\u001b[0m \u001b[43m    \u001b[49m\u001b[43minit\u001b[49m\u001b[38;5;241;43m=\u001b[39;49m\u001b[43minit\u001b[49m\u001b[43m,\u001b[49m\n\u001b[0;32m    342\u001b[0m \u001b[43m    \u001b[49m\u001b[43msvd\u001b[49m\u001b[38;5;241;43m=\u001b[39;49m\u001b[43msvd\u001b[49m\u001b[43m,\u001b[49m\n\u001b[0;32m    343\u001b[0m \u001b[43m    \u001b[49m\u001b[43mrandom_state\u001b[49m\u001b[38;5;241;43m=\u001b[39;49m\u001b[43mrandom_state\u001b[49m\u001b[43m,\u001b[49m\n\u001b[0;32m    344\u001b[0m \u001b[43m    \u001b[49m\u001b[43mnormalize_factors\u001b[49m\u001b[38;5;241;43m=\u001b[39;49m\u001b[43mnormalize_factors\u001b[49m\u001b[43m,\u001b[49m\n\u001b[0;32m    345\u001b[0m \u001b[43m    \u001b[49m\u001b[43mmask\u001b[49m\u001b[38;5;241;43m=\u001b[39;49m\u001b[43mmask\u001b[49m\u001b[43m,\u001b[49m\n\u001b[0;32m    346\u001b[0m \u001b[43m    \u001b[49m\u001b[43msvd_mask_repeats\u001b[49m\u001b[38;5;241;43m=\u001b[39;49m\u001b[43msvd_mask_repeats\u001b[49m\u001b[43m,\u001b[49m\n\u001b[0;32m    347\u001b[0m \u001b[43m\u001b[49m\u001b[43m)\u001b[49m\n\u001b[0;32m    349\u001b[0m rec_errors \u001b[38;5;241m=\u001b[39m []\n\u001b[0;32m    350\u001b[0m norm_tensor \u001b[38;5;241m=\u001b[39m tl\u001b[38;5;241m.\u001b[39mnorm(tensor, \u001b[38;5;241m2\u001b[39m)\n",
      "File \u001b[1;32m~\\AppData\\Roaming\\Python\\Python312\\site-packages\\tensorly\\decomposition\\_cp.py:76\u001b[0m, in \u001b[0;36minitialize_cp\u001b[1;34m(tensor, rank, init, svd, non_negative, random_state, normalize_factors, mask, svd_mask_repeats)\u001b[0m\n\u001b[0;32m     74\u001b[0m \u001b[38;5;28;01mfor\u001b[39;00m mode \u001b[38;5;129;01min\u001b[39;00m \u001b[38;5;28mrange\u001b[39m(tl\u001b[38;5;241m.\u001b[39mndim(tensor)):\n\u001b[0;32m     75\u001b[0m     mask_unfold \u001b[38;5;241m=\u001b[39m \u001b[38;5;28;01mNone\u001b[39;00m \u001b[38;5;28;01mif\u001b[39;00m mask \u001b[38;5;129;01mis\u001b[39;00m \u001b[38;5;28;01mNone\u001b[39;00m \u001b[38;5;28;01melse\u001b[39;00m unfold(mask, mode)\n\u001b[1;32m---> 76\u001b[0m     U, S, _ \u001b[38;5;241m=\u001b[39m \u001b[43msvd_interface\u001b[49m\u001b[43m(\u001b[49m\n\u001b[0;32m     77\u001b[0m \u001b[43m        \u001b[49m\u001b[43munfold\u001b[49m\u001b[43m(\u001b[49m\u001b[43mtensor\u001b[49m\u001b[43m,\u001b[49m\u001b[43m \u001b[49m\u001b[43mmode\u001b[49m\u001b[43m)\u001b[49m\u001b[43m,\u001b[49m\n\u001b[0;32m     78\u001b[0m \u001b[43m        \u001b[49m\u001b[43mn_eigenvecs\u001b[49m\u001b[38;5;241;43m=\u001b[39;49m\u001b[43mrank\u001b[49m\u001b[43m,\u001b[49m\n\u001b[0;32m     79\u001b[0m \u001b[43m        \u001b[49m\u001b[43mmethod\u001b[49m\u001b[38;5;241;43m=\u001b[39;49m\u001b[43msvd\u001b[49m\u001b[43m,\u001b[49m\n\u001b[0;32m     80\u001b[0m \u001b[43m        \u001b[49m\u001b[43mnon_negative\u001b[49m\u001b[38;5;241;43m=\u001b[39;49m\u001b[43mnon_negative\u001b[49m\u001b[43m,\u001b[49m\n\u001b[0;32m     81\u001b[0m \u001b[43m        \u001b[49m\u001b[43mmask\u001b[49m\u001b[38;5;241;43m=\u001b[39;49m\u001b[43mmask_unfold\u001b[49m\u001b[43m,\u001b[49m\n\u001b[0;32m     82\u001b[0m \u001b[43m        \u001b[49m\u001b[43mn_iter_mask_imputation\u001b[49m\u001b[38;5;241;43m=\u001b[39;49m\u001b[43msvd_mask_repeats\u001b[49m\u001b[43m,\u001b[49m\n\u001b[0;32m     83\u001b[0m \u001b[43m    \u001b[49m\u001b[43m)\u001b[49m\n\u001b[0;32m     85\u001b[0m     \u001b[38;5;66;03m# Put SVD initialization on the same scaling as the tensor in case normalize_factors=False\u001b[39;00m\n\u001b[0;32m     86\u001b[0m     \u001b[38;5;28;01mif\u001b[39;00m mode \u001b[38;5;241m==\u001b[39m \u001b[38;5;241m0\u001b[39m:\n",
      "File \u001b[1;32m~\\AppData\\Roaming\\Python\\Python312\\site-packages\\tensorly\\tenalg\\svd.py:427\u001b[0m, in \u001b[0;36msvd_interface\u001b[1;34m(matrix, method, n_eigenvecs, flip_sign, u_based_flip_sign, non_negative, mask, n_iter_mask_imputation, **kwargs)\u001b[0m\n\u001b[0;32m    422\u001b[0m \u001b[38;5;28;01melse\u001b[39;00m:\n\u001b[0;32m    423\u001b[0m     \u001b[38;5;28;01mraise\u001b[39;00m \u001b[38;5;167;01mValueError\u001b[39;00m(\n\u001b[0;32m    424\u001b[0m         \u001b[38;5;124mf\u001b[39m\u001b[38;5;124m\"\u001b[39m\u001b[38;5;124mGot svd=\u001b[39m\u001b[38;5;132;01m{\u001b[39;00mmethod\u001b[38;5;132;01m}\u001b[39;00m\u001b[38;5;124m. However, the possible choices are \u001b[39m\u001b[38;5;132;01m{\u001b[39;00mSVD_FUNS\u001b[38;5;132;01m}\u001b[39;00m\u001b[38;5;124m or to pass a callable.\u001b[39m\u001b[38;5;124m\"\u001b[39m\n\u001b[0;32m    425\u001b[0m     )\n\u001b[1;32m--> 427\u001b[0m U, S, V \u001b[38;5;241m=\u001b[39m \u001b[43msvd_fun\u001b[49m\u001b[43m(\u001b[49m\u001b[43mmatrix\u001b[49m\u001b[43m,\u001b[49m\u001b[43m \u001b[49m\u001b[43mn_eigenvecs\u001b[49m\u001b[38;5;241;43m=\u001b[39;49m\u001b[43mn_eigenvecs\u001b[49m\u001b[43m,\u001b[49m\u001b[43m \u001b[49m\u001b[38;5;241;43m*\u001b[39;49m\u001b[38;5;241;43m*\u001b[39;49m\u001b[43mkwargs\u001b[49m\u001b[43m)\u001b[49m\n\u001b[0;32m    429\u001b[0m \u001b[38;5;28;01mif\u001b[39;00m mask \u001b[38;5;129;01mis\u001b[39;00m \u001b[38;5;129;01mnot\u001b[39;00m \u001b[38;5;28;01mNone\u001b[39;00m \u001b[38;5;129;01mand\u001b[39;00m n_eigenvecs \u001b[38;5;129;01mis\u001b[39;00m \u001b[38;5;129;01mnot\u001b[39;00m \u001b[38;5;28;01mNone\u001b[39;00m:\n\u001b[0;32m    430\u001b[0m     \u001b[38;5;28;01mfor\u001b[39;00m _ \u001b[38;5;129;01min\u001b[39;00m \u001b[38;5;28mrange\u001b[39m(n_iter_mask_imputation):\n\u001b[0;32m    431\u001b[0m         \u001b[38;5;66;03m# Workaround to avoid needing fill_diagonal\u001b[39;00m\n",
      "File \u001b[1;32m~\\AppData\\Roaming\\Python\\Python312\\site-packages\\tensorly\\tenalg\\svd.py:232\u001b[0m, in \u001b[0;36mtruncated_svd\u001b[1;34m(matrix, n_eigenvecs, **kwargs)\u001b[0m\n\u001b[0;32m    230\u001b[0m n_eigenvecs, min_dim, _ \u001b[38;5;241m=\u001b[39m svd_checks(matrix, n_eigenvecs\u001b[38;5;241m=\u001b[39mn_eigenvecs)\n\u001b[0;32m    231\u001b[0m full_matrices \u001b[38;5;241m=\u001b[39m \u001b[38;5;28;01mTrue\u001b[39;00m \u001b[38;5;28;01mif\u001b[39;00m n_eigenvecs \u001b[38;5;241m>\u001b[39m min_dim \u001b[38;5;28;01melse\u001b[39;00m \u001b[38;5;28;01mFalse\u001b[39;00m\n\u001b[1;32m--> 232\u001b[0m U, S, V \u001b[38;5;241m=\u001b[39m \u001b[43mtl\u001b[49m\u001b[38;5;241;43m.\u001b[39;49m\u001b[43msvd\u001b[49m\u001b[43m(\u001b[49m\u001b[43mmatrix\u001b[49m\u001b[43m,\u001b[49m\u001b[43m \u001b[49m\u001b[43mfull_matrices\u001b[49m\u001b[38;5;241;43m=\u001b[39;49m\u001b[43mfull_matrices\u001b[49m\u001b[43m)\u001b[49m\n\u001b[0;32m    233\u001b[0m \u001b[38;5;28;01mreturn\u001b[39;00m U[:, :n_eigenvecs], S[:n_eigenvecs], V[:n_eigenvecs, :]\n",
      "File \u001b[1;32m~\\AppData\\Roaming\\Python\\Python312\\site-packages\\tensorly\\backend\\__init__.py:202\u001b[0m, in \u001b[0;36mBackendManager.dispatch_backend_method.<locals>.wrapped_backend_method\u001b[1;34m(*args, **kwargs)\u001b[0m\n\u001b[0;32m    198\u001b[0m \u001b[38;5;28;01mdef\u001b[39;00m \u001b[38;5;21mwrapped_backend_method\u001b[39m(\u001b[38;5;241m*\u001b[39margs, \u001b[38;5;241m*\u001b[39m\u001b[38;5;241m*\u001b[39mkwargs):\n\u001b[0;32m    199\u001b[0m \u001b[38;5;250m    \u001b[39m\u001b[38;5;124;03m\"\"\"A dynamically dispatched method\u001b[39;00m\n\u001b[0;32m    200\u001b[0m \n\u001b[0;32m    201\u001b[0m \u001b[38;5;124;03m    Returns the queried method from the currently set backend\"\"\"\u001b[39;00m\n\u001b[1;32m--> 202\u001b[0m     \u001b[38;5;28;01mreturn\u001b[39;00m \u001b[38;5;28;43mgetattr\u001b[39;49m\u001b[43m(\u001b[49m\n\u001b[0;32m    203\u001b[0m \u001b[43m        \u001b[49m\u001b[38;5;28;43mcls\u001b[39;49m\u001b[38;5;241;43m.\u001b[39;49m\u001b[43m_THREAD_LOCAL_DATA\u001b[49m\u001b[38;5;241;43m.\u001b[39;49m\u001b[38;5;18;43m__dict__\u001b[39;49m\u001b[38;5;241;43m.\u001b[39;49m\u001b[43mget\u001b[49m\u001b[43m(\u001b[49m\u001b[38;5;124;43m\"\u001b[39;49m\u001b[38;5;124;43mbackend\u001b[39;49m\u001b[38;5;124;43m\"\u001b[39;49m\u001b[43m,\u001b[49m\u001b[43m \u001b[49m\u001b[38;5;28;43mcls\u001b[39;49m\u001b[38;5;241;43m.\u001b[39;49m\u001b[43m_backend\u001b[49m\u001b[43m)\u001b[49m\u001b[43m,\u001b[49m\u001b[43m \u001b[49m\u001b[43mname\u001b[49m\n\u001b[0;32m    204\u001b[0m \u001b[43m    \u001b[49m\u001b[43m)\u001b[49m\u001b[43m(\u001b[49m\u001b[38;5;241;43m*\u001b[39;49m\u001b[43margs\u001b[49m\u001b[43m,\u001b[49m\u001b[43m \u001b[49m\u001b[38;5;241;43m*\u001b[39;49m\u001b[38;5;241;43m*\u001b[39;49m\u001b[43mkwargs\u001b[49m\u001b[43m)\u001b[49m\n",
      "File \u001b[1;32m~\\AppData\\Roaming\\Python\\Python312\\site-packages\\numpy\\linalg\\_linalg.py:1796\u001b[0m, in \u001b[0;36msvd\u001b[1;34m(a, full_matrices, compute_uv, hermitian)\u001b[0m\n\u001b[0;32m   1792\u001b[0m signature \u001b[38;5;241m=\u001b[39m \u001b[38;5;124m'\u001b[39m\u001b[38;5;124mD->DdD\u001b[39m\u001b[38;5;124m'\u001b[39m \u001b[38;5;28;01mif\u001b[39;00m isComplexType(t) \u001b[38;5;28;01melse\u001b[39;00m \u001b[38;5;124m'\u001b[39m\u001b[38;5;124md->ddd\u001b[39m\u001b[38;5;124m'\u001b[39m\n\u001b[0;32m   1793\u001b[0m \u001b[38;5;28;01mwith\u001b[39;00m errstate(call\u001b[38;5;241m=\u001b[39m_raise_linalgerror_svd_nonconvergence,\n\u001b[0;32m   1794\u001b[0m               invalid\u001b[38;5;241m=\u001b[39m\u001b[38;5;124m'\u001b[39m\u001b[38;5;124mcall\u001b[39m\u001b[38;5;124m'\u001b[39m, over\u001b[38;5;241m=\u001b[39m\u001b[38;5;124m'\u001b[39m\u001b[38;5;124mignore\u001b[39m\u001b[38;5;124m'\u001b[39m, divide\u001b[38;5;241m=\u001b[39m\u001b[38;5;124m'\u001b[39m\u001b[38;5;124mignore\u001b[39m\u001b[38;5;124m'\u001b[39m,\n\u001b[0;32m   1795\u001b[0m               under\u001b[38;5;241m=\u001b[39m\u001b[38;5;124m'\u001b[39m\u001b[38;5;124mignore\u001b[39m\u001b[38;5;124m'\u001b[39m):\n\u001b[1;32m-> 1796\u001b[0m     u, s, vh \u001b[38;5;241m=\u001b[39m \u001b[43mgufunc\u001b[49m\u001b[43m(\u001b[49m\u001b[43ma\u001b[49m\u001b[43m,\u001b[49m\u001b[43m \u001b[49m\u001b[43msignature\u001b[49m\u001b[38;5;241;43m=\u001b[39;49m\u001b[43msignature\u001b[49m\u001b[43m)\u001b[49m\n\u001b[0;32m   1797\u001b[0m u \u001b[38;5;241m=\u001b[39m u\u001b[38;5;241m.\u001b[39mastype(result_t, copy\u001b[38;5;241m=\u001b[39m\u001b[38;5;28;01mFalse\u001b[39;00m)\n\u001b[0;32m   1798\u001b[0m s \u001b[38;5;241m=\u001b[39m s\u001b[38;5;241m.\u001b[39mastype(_realType(result_t), copy\u001b[38;5;241m=\u001b[39m\u001b[38;5;28;01mFalse\u001b[39;00m)\n",
      "\u001b[1;31mMemoryError\u001b[0m: Unable to allocate 40.7 TiB for an array with shape (2364336, 2364336) and data type float64"
     ]
    }
   ],
   "source": [
    "for rank in ranks:\n",
    "    weights, factors = parafac(tensor, rank=rank)\n",
    "    reconstructed_tensor = cp_to_tensor((weights, factors))\n",
    "    error = np.linalg.norm(tensor - reconstructed_tensor) / np.linalg.norm(tensor)\n",
    "    reconstruction_errors.append(error)"
   ]
  },
  {
   "cell_type": "code",
   "execution_count": 33,
   "metadata": {},
   "outputs": [
    {
     "data": {
      "image/png": "[encoded data removed]",
      "text/plain": [
       "<Figure size 800x600 with 1 Axes>"
      ]
     },
     "metadata": {},
     "output_type": "display_data"
    }
   ],
   "source": [
    "plt.figure(figsize=(8, 6))\n",
    "plt.plot(ranks, reconstruction_errors, marker='o', linestyle='-', color='b')\n",
    "plt.title(\"Reconstruction Error vs Rank\")\n",
    "plt.xlabel(\"Rank\")\n",
    "plt.ylabel(\"Reconstruction Error\")\n",
    "plt.grid(True)\n",
    "plt.show()"
   ]
  },
  {
   "cell_type": "code",
   "execution_count": 34,
   "metadata": {},
   "outputs": [
    {
     "name": "stdout",
     "output_type": "stream",
     "text": [
      "Rank \t Reconstruction error\n",
      "\n",
      "5 \t 0.4231392517049256\n",
      "10 \t 0.09638503903688629\n",
      "15 \t 5.590554182437573e-05\n",
      "20 \t 3.4151282348267075e-16\n",
      "25 \t 7.054758148540366e-14\n"
     ]
    }
   ],
   "source": [
    "print(\"Rank \\t Reconstruction error\\n\")\n",
    "for i in range(5):\n",
    "    print(ranks[i],\"\\t\", reconstruction_errors[i])"
   ]
  },
  {
   "cell_type": "markdown",
   "metadata": {},
   "source": [
    "## Tucker Decomposition"
   ]
  },
  {
   "cell_type": "code",
   "execution_count": 4,
   "metadata": {},
   "outputs": [],
   "source": [
    "from tensorly.decomposition import tucker\n",
    "from tensorly.metrics import RMSE\n",
    "from tensorly import tucker_to_tensor"
   ]
  },
  {
   "cell_type": "code",
   "execution_count": 5,
   "metadata": {},
   "outputs": [
    {
     "name": "stdout",
     "output_type": "stream",
     "text": [
      "Ranks [1, 5, 45468] -> Reconstruction Error: 0.03954972326755524\n",
      "Ranks [1, 10, 45468] -> Reconstruction Error: 0.01999189704656601\n",
      "Ranks [1, 15, 45468] -> Reconstruction Error: 0.008834189735352993\n",
      "Ranks [1, 20, 45468] -> Reconstruction Error: 0.0027520006988197565\n",
      "Ranks [1, 25, 45468] -> Reconstruction Error: 0.0002856036298908293\n",
      "Ranks [1, 30, 45468] -> Reconstruction Error: 3.8265388866420835e-06\n"
     ]
    }
   ],
   "source": [
    "ranks_list = [\n",
    "    [1, 5, len(df)],\n",
    "    [1, 10, len(df)],\n",
    "    [1, 15, len(df)],\n",
    "    [1, 20, len(df)],\n",
    "    [1, 25, len(df)],\n",
    "    [1, 30, len(df)]\n",
    "]\n",
    "\n",
    "errors = []\n",
    "for ranks in ranks_list:\n",
    "    core, factors = tucker(tensor, rank=ranks)\n",
    "    reconstructed_tensor = tucker_to_tensor((core, factors))\n",
    "    error = RMSE(tensor, reconstructed_tensor)\n",
    "    errors.append(error)\n",
    "    print(f\"Ranks {ranks} -> Reconstruction Error: {error}\")\n",
    "    with open(f\"tucker_decomposition_{ranks[1]}.pkl\", \"wb\") as f:\n",
    "        pickle.dump((core, factors), f)"
   ]
  },
  {
   "cell_type": "code",
   "execution_count": 7,
   "metadata": {},
   "outputs": [
    {
     "data": {
      "image/png": "[encoded data removed]",
      "text/plain": [
       "<Figure size 640x480 with 1 Axes>"
      ]
     },
     "metadata": {},
     "output_type": "display_data"
    }
   ],
   "source": [
    "x_labels = [str(r[1]) for r in ranks_list]\n",
    "plt.plot(x_labels, errors, marker='o')\n",
    "plt.xlabel(\"Ranks (Per Mode)\")\n",
    "plt.ylabel(\"Reconstruction Error\")\n",
    "plt.title(\"Reconstruction Error vs Ranks (Tucker)\")\n",
    "plt.grid()\n",
    "plt.show()"
   ]
  },
  {
   "cell_type": "code",
   "execution_count": 10,
   "metadata": {},
   "outputs": [
    {
     "name": "stdout",
     "output_type": "stream",
     "text": [
      "Tucker Decomposition Reconstruction Error: 0.0002856036298908293\n",
      "Core Tensor Shape: torch.Size([1, 25, 45468])\n",
      "Factor 1 Shape: torch.Size([1, 1])\n",
      "Factor 2 Shape: torch.Size([52, 25])\n",
      "Factor 3 Shape: torch.Size([45468, 45468])\n"
     ]
    }
   ],
   "source": []
  },
  {
   "cell_type": "code",
   "execution_count": 8,
   "metadata": {},
   "outputs": [],
   "source": [
    "factor_1, factor_2, factor_3 = factors"
   ]
  },
  {
   "cell_type": "markdown",
   "metadata": {},
   "source": [
    "## LSTM"
   ]
  },
  {
   "cell_type": "code",
   "execution_count": 4,
   "metadata": {},
   "outputs": [],
   "source": [
    "def create_dataset(X, y, time_step=60):\n",
    "    Xs, ys = [], []\n",
    "    for i in range(len(X) - time_step):\n",
    "        Xs.append(X[i:(i + time_step)])\n",
    "        ys.append(y[i + time_step])\n",
    "    return np.array(Xs), np.array(ys)"
   ]
  },
  {
   "cell_type": "code",
   "execution_count": 5,
   "metadata": {},
   "outputs": [],
   "source": [
    "from tensorflow.keras.models import Sequential\n",
    "from tensorflow.keras.layers import LSTM, Dense\n",
    "from tensorflow.keras.optimizers import Adam\n",
    "from sklearn.metrics import mean_squared_error, r2_score"
   ]
  },
  {
   "cell_type": "code",
   "execution_count": 6,
   "metadata": {},
   "outputs": [],
   "source": [
    "def build_model(input_shape):\n",
    "    model = Sequential()\n",
    "    model.add(LSTM(50, return_sequences=True, input_shape=input_shape))\n",
    "    model.add(LSTM(50, return_sequences=False))\n",
    "    model.add(Dense(25))\n",
    "    model.add(Dense(1))\n",
    "    model.compile(optimizer=Adam(learning_rate=0.001), loss='mean_squared_error')\n",
    "    return model"
   ]
  },
  {
   "cell_type": "markdown",
   "metadata": {},
   "source": [
    "#### Global"
   ]
  },
  {
   "cell_type": "code",
   "execution_count": 7,
   "metadata": {},
   "outputs": [],
   "source": [
    "train_size = int(len(features_normalized) * 0.7)\n",
    "X_train, X_test = features_normalized[:train_size], features_normalized[train_size:]\n",
    "y_train, y_test = target_norm[:train_size], target_norm[train_size:]"
   ]
  },
  {
   "cell_type": "code",
   "execution_count": 8,
   "metadata": {},
   "outputs": [
    {
     "name": "stderr",
     "output_type": "stream",
     "text": [
      "C:\\Users\\genty\\AppData\\Roaming\\Python\\Python312\\site-packages\\keras\\src\\layers\\rnn\\rnn.py:204: UserWarning: Do not pass an `input_shape`/`input_dim` argument to a layer. When using Sequential models, prefer using an `Input(shape)` object as the first layer in the model instead.\n",
      "  super().__init__(**kwargs)\n"
     ]
    },
    {
     "name": "stdout",
     "output_type": "stream",
     "text": [
      "Epoch 1/50\n",
      "\u001b[1m993/993\u001b[0m \u001b[32m━━━━━━━━━━━━━━━━━━━━\u001b[0m\u001b[37m\u001b[0m \u001b[1m34s\u001b[0m 30ms/step - loss: 0.0101 - val_loss: 0.0029\n",
      "Epoch 2/50\n",
      "\u001b[1m993/993\u001b[0m \u001b[32m━━━━━━━━━━━━━━━━━━━━\u001b[0m\u001b[37m\u001b[0m \u001b[1m25s\u001b[0m 25ms/step - loss: 6.1857e-05 - val_loss: 0.0018\n",
      "Epoch 3/50\n",
      "\u001b[1m993/993\u001b[0m \u001b[32m━━━━━━━━━━━━━━━━━━━━\u001b[0m\u001b[37m\u001b[0m \u001b[1m25s\u001b[0m 25ms/step - loss: 4.0487e-05 - val_loss: 0.0016\n",
      "Epoch 4/50\n",
      "\u001b[1m993/993\u001b[0m \u001b[32m━━━━━━━━━━━━━━━━━━━━\u001b[0m\u001b[37m\u001b[0m \u001b[1m35s\u001b[0m 35ms/step - loss: 4.4859e-05 - val_loss: 0.0014\n",
      "Epoch 5/50\n",
      "\u001b[1m993/993\u001b[0m \u001b[32m━━━━━━━━━━━━━━━━━━━━\u001b[0m\u001b[37m\u001b[0m \u001b[1m27s\u001b[0m 27ms/step - loss: 3.9383e-05 - val_loss: 9.6420e-04\n",
      "Epoch 6/50\n",
      "\u001b[1m993/993\u001b[0m \u001b[32m━━━━━━━━━━━━━━━━━━━━\u001b[0m\u001b[37m\u001b[0m \u001b[1m27s\u001b[0m 27ms/step - loss: 4.9901e-05 - val_loss: 6.8590e-04\n",
      "Epoch 7/50\n",
      "\u001b[1m993/993\u001b[0m \u001b[32m━━━━━━━━━━━━━━━━━━━━\u001b[0m\u001b[37m\u001b[0m \u001b[1m27s\u001b[0m 27ms/step - loss: 2.1249e-05 - val_loss: 5.3369e-04\n",
      "Epoch 8/50\n",
      "\u001b[1m993/993\u001b[0m \u001b[32m━━━━━━━━━━━━━━━━━━━━\u001b[0m\u001b[37m\u001b[0m \u001b[1m26s\u001b[0m 26ms/step - loss: 5.2303e-04 - val_loss: 3.6442e-04\n",
      "Epoch 9/50\n",
      "\u001b[1m993/993\u001b[0m \u001b[32m━━━━━━━━━━━━━━━━━━━━\u001b[0m\u001b[37m\u001b[0m \u001b[1m26s\u001b[0m 26ms/step - loss: 1.9689e-05 - val_loss: 7.7818e-04\n",
      "Epoch 10/50\n",
      "\u001b[1m993/993\u001b[0m \u001b[32m━━━━━━━━━━━━━━━━━━━━\u001b[0m\u001b[37m\u001b[0m \u001b[1m26s\u001b[0m 26ms/step - loss: 4.3872e-05 - val_loss: 4.1449e-04\n",
      "Epoch 11/50\n",
      "\u001b[1m993/993\u001b[0m \u001b[32m━━━━━━━━━━━━━━━━━━━━\u001b[0m\u001b[37m\u001b[0m \u001b[1m27s\u001b[0m 27ms/step - loss: 9.3332e-06 - val_loss: 4.0135e-04\n",
      "Epoch 12/50\n",
      "\u001b[1m993/993\u001b[0m \u001b[32m━━━━━━━━━━━━━━━━━━━━\u001b[0m\u001b[37m\u001b[0m \u001b[1m28s\u001b[0m 28ms/step - loss: 6.5933e-05 - val_loss: 3.9847e-04\n",
      "Epoch 13/50\n",
      "\u001b[1m993/993\u001b[0m \u001b[32m━━━━━━━━━━━━━━━━━━━━\u001b[0m\u001b[37m\u001b[0m \u001b[1m27s\u001b[0m 28ms/step - loss: 4.9696e-06 - val_loss: 4.4424e-04\n",
      "Epoch 14/50\n",
      "\u001b[1m993/993\u001b[0m \u001b[32m━━━━━━━━━━━━━━━━━━━━\u001b[0m\u001b[37m\u001b[0m \u001b[1m27s\u001b[0m 27ms/step - loss: 3.3618e-05 - val_loss: 3.7196e-04\n",
      "Epoch 15/50\n",
      "\u001b[1m993/993\u001b[0m \u001b[32m━━━━━━━━━━━━━━━━━━━━\u001b[0m\u001b[37m\u001b[0m \u001b[1m28s\u001b[0m 28ms/step - loss: 5.9900e-05 - val_loss: 6.4858e-04\n",
      "Epoch 16/50\n",
      "\u001b[1m993/993\u001b[0m \u001b[32m━━━━━━━━━━━━━━━━━━━━\u001b[0m\u001b[37m\u001b[0m \u001b[1m29s\u001b[0m 30ms/step - loss: 8.7324e-06 - val_loss: 6.6950e-04\n",
      "Epoch 17/50\n",
      "\u001b[1m993/993\u001b[0m \u001b[32m━━━━━━━━━━━━━━━━━━━━\u001b[0m\u001b[37m\u001b[0m \u001b[1m28s\u001b[0m 28ms/step - loss: 1.3504e-05 - val_loss: 5.6664e-04\n",
      "Epoch 18/50\n",
      "\u001b[1m993/993\u001b[0m \u001b[32m━━━━━━━━━━━━━━━━━━━━\u001b[0m\u001b[37m\u001b[0m \u001b[1m28s\u001b[0m 28ms/step - loss: 7.4844e-06 - val_loss: 5.6137e-04\n",
      "Epoch 19/50\n",
      "\u001b[1m993/993\u001b[0m \u001b[32m━━━━━━━━━━━━━━━━━━━━\u001b[0m\u001b[37m\u001b[0m \u001b[1m27s\u001b[0m 28ms/step - loss: 1.3151e-05 - val_loss: 5.7046e-04\n",
      "Epoch 20/50\n",
      "\u001b[1m993/993\u001b[0m \u001b[32m━━━━━━━━━━━━━━━━━━━━\u001b[0m\u001b[37m\u001b[0m \u001b[1m26s\u001b[0m 26ms/step - loss: 3.0883e-04 - val_loss: 0.0021\n",
      "Epoch 21/50\n",
      "\u001b[1m993/993\u001b[0m \u001b[32m━━━━━━━━━━━━━━━━━━━━\u001b[0m\u001b[37m\u001b[0m \u001b[1m28s\u001b[0m 28ms/step - loss: 1.0065e-05 - val_loss: 0.0013\n",
      "Epoch 22/50\n",
      "\u001b[1m993/993\u001b[0m \u001b[32m━━━━━━━━━━━━━━━━━━━━\u001b[0m\u001b[37m\u001b[0m \u001b[1m28s\u001b[0m 28ms/step - loss: 1.0115e-05 - val_loss: 0.0017\n",
      "Epoch 23/50\n",
      "\u001b[1m993/993\u001b[0m \u001b[32m━━━━━━━━━━━━━━━━━━━━\u001b[0m\u001b[37m\u001b[0m \u001b[1m27s\u001b[0m 27ms/step - loss: 1.1330e-05 - val_loss: 0.0012\n",
      "Epoch 24/50\n",
      "\u001b[1m993/993\u001b[0m \u001b[32m━━━━━━━━━━━━━━━━━━━━\u001b[0m\u001b[37m\u001b[0m \u001b[1m28s\u001b[0m 29ms/step - loss: 1.1394e-05 - val_loss: 0.0012\n",
      "Epoch 25/50\n",
      "\u001b[1m993/993\u001b[0m \u001b[32m━━━━━━━━━━━━━━━━━━━━\u001b[0m\u001b[37m\u001b[0m \u001b[1m29s\u001b[0m 30ms/step - loss: 2.5830e-05 - val_loss: 0.0013\n",
      "Epoch 26/50\n",
      "\u001b[1m993/993\u001b[0m \u001b[32m━━━━━━━━━━━━━━━━━━━━\u001b[0m\u001b[37m\u001b[0m \u001b[1m29s\u001b[0m 29ms/step - loss: 1.1999e-05 - val_loss: 0.0013\n",
      "Epoch 27/50\n",
      "\u001b[1m993/993\u001b[0m \u001b[32m━━━━━━━━━━━━━━━━━━━━\u001b[0m\u001b[37m\u001b[0m \u001b[1m28s\u001b[0m 28ms/step - loss: 4.5974e-06 - val_loss: 0.0011\n",
      "Epoch 28/50\n",
      "\u001b[1m993/993\u001b[0m \u001b[32m━━━━━━━━━━━━━━━━━━━━\u001b[0m\u001b[37m\u001b[0m \u001b[1m28s\u001b[0m 29ms/step - loss: 7.4354e-06 - val_loss: 0.0010\n",
      "Epoch 29/50\n",
      "\u001b[1m993/993\u001b[0m \u001b[32m━━━━━━━━━━━━━━━━━━━━\u001b[0m\u001b[37m\u001b[0m \u001b[1m28s\u001b[0m 28ms/step - loss: 5.5048e-05 - val_loss: 8.3006e-04\n",
      "Epoch 30/50\n",
      "\u001b[1m993/993\u001b[0m \u001b[32m━━━━━━━━━━━━━━━━━━━━\u001b[0m\u001b[37m\u001b[0m \u001b[1m28s\u001b[0m 28ms/step - loss: 6.7255e-06 - val_loss: 8.8385e-04\n",
      "Epoch 31/50\n",
      "\u001b[1m993/993\u001b[0m \u001b[32m━━━━━━━━━━━━━━━━━━━━\u001b[0m\u001b[37m\u001b[0m \u001b[1m28s\u001b[0m 28ms/step - loss: 3.5132e-06 - val_loss: 9.7262e-04\n",
      "Epoch 32/50\n",
      "\u001b[1m993/993\u001b[0m \u001b[32m━━━━━━━━━━━━━━━━━━━━\u001b[0m\u001b[37m\u001b[0m \u001b[1m28s\u001b[0m 28ms/step - loss: 4.8318e-06 - val_loss: 0.0011\n",
      "Epoch 33/50\n",
      "\u001b[1m993/993\u001b[0m \u001b[32m━━━━━━━━━━━━━━━━━━━━\u001b[0m\u001b[37m\u001b[0m \u001b[1m28s\u001b[0m 28ms/step - loss: 3.9177e-06 - val_loss: 0.0013\n",
      "Epoch 34/50\n",
      "\u001b[1m993/993\u001b[0m \u001b[32m━━━━━━━━━━━━━━━━━━━━\u001b[0m\u001b[37m\u001b[0m \u001b[1m29s\u001b[0m 29ms/step - loss: 9.1770e-06 - val_loss: 0.0012\n",
      "Epoch 35/50\n",
      "\u001b[1m993/993\u001b[0m \u001b[32m━━━━━━━━━━━━━━━━━━━━\u001b[0m\u001b[37m\u001b[0m \u001b[1m29s\u001b[0m 29ms/step - loss: 7.3152e-06 - val_loss: 0.0012\n",
      "Epoch 36/50\n",
      "\u001b[1m993/993\u001b[0m \u001b[32m━━━━━━━━━━━━━━━━━━━━\u001b[0m\u001b[37m\u001b[0m \u001b[1m28s\u001b[0m 29ms/step - loss: 7.9546e-06 - val_loss: 0.0012\n",
      "Epoch 37/50\n",
      "\u001b[1m993/993\u001b[0m \u001b[32m━━━━━━━━━━━━━━━━━━━━\u001b[0m\u001b[37m\u001b[0m \u001b[1m28s\u001b[0m 28ms/step - loss: 3.5637e-06 - val_loss: 0.0012\n",
      "Epoch 38/50\n",
      "\u001b[1m993/993\u001b[0m \u001b[32m━━━━━━━━━━━━━━━━━━━━\u001b[0m\u001b[37m\u001b[0m \u001b[1m28s\u001b[0m 29ms/step - loss: 7.6385e-06 - val_loss: 0.0013\n",
      "Epoch 39/50\n",
      "\u001b[1m993/993\u001b[0m \u001b[32m━━━━━━━━━━━━━━━━━━━━\u001b[0m\u001b[37m\u001b[0m \u001b[1m29s\u001b[0m 29ms/step - loss: 2.5773e-06 - val_loss: 0.0013\n",
      "Epoch 40/50\n",
      "\u001b[1m993/993\u001b[0m \u001b[32m━━━━━━━━━━━━━━━━━━━━\u001b[0m\u001b[37m\u001b[0m \u001b[1m29s\u001b[0m 29ms/step - loss: 1.4498e-05 - val_loss: 0.0012\n",
      "Epoch 41/50\n",
      "\u001b[1m993/993\u001b[0m \u001b[32m━━━━━━━━━━━━━━━━━━━━\u001b[0m\u001b[37m\u001b[0m \u001b[1m29s\u001b[0m 29ms/step - loss: 1.6653e-06 - val_loss: 0.0013\n",
      "Epoch 42/50\n",
      "\u001b[1m993/993\u001b[0m \u001b[32m━━━━━━━━━━━━━━━━━━━━\u001b[0m\u001b[37m\u001b[0m \u001b[1m28s\u001b[0m 29ms/step - loss: 1.2743e-05 - val_loss: 0.0012\n",
      "Epoch 43/50\n",
      "\u001b[1m993/993\u001b[0m \u001b[32m━━━━━━━━━━━━━━━━━━━━\u001b[0m\u001b[37m\u001b[0m \u001b[1m29s\u001b[0m 29ms/step - loss: 2.8372e-06 - val_loss: 0.0015\n",
      "Epoch 44/50\n",
      "\u001b[1m993/993\u001b[0m \u001b[32m━━━━━━━━━━━━━━━━━━━━\u001b[0m\u001b[37m\u001b[0m \u001b[1m29s\u001b[0m 29ms/step - loss: 6.7629e-06 - val_loss: 0.0013\n",
      "Epoch 45/50\n",
      "\u001b[1m993/993\u001b[0m \u001b[32m━━━━━━━━━━━━━━━━━━━━\u001b[0m\u001b[37m\u001b[0m \u001b[1m29s\u001b[0m 29ms/step - loss: 5.2222e-06 - val_loss: 0.0012\n",
      "Epoch 46/50\n",
      "\u001b[1m993/993\u001b[0m \u001b[32m━━━━━━━━━━━━━━━━━━━━\u001b[0m\u001b[37m\u001b[0m \u001b[1m29s\u001b[0m 29ms/step - loss: 1.8005e-05 - val_loss: 0.0011\n",
      "Epoch 47/50\n",
      "\u001b[1m993/993\u001b[0m \u001b[32m━━━━━━━━━━━━━━━━━━━━\u001b[0m\u001b[37m\u001b[0m \u001b[1m28s\u001b[0m 28ms/step - loss: 1.9839e-06 - val_loss: 0.0011\n",
      "Epoch 48/50\n",
      "\u001b[1m993/993\u001b[0m \u001b[32m━━━━━━━━━━━━━━━━━━━━\u001b[0m\u001b[37m\u001b[0m \u001b[1m29s\u001b[0m 29ms/step - loss: 6.3358e-06 - val_loss: 0.0012\n",
      "Epoch 49/50\n",
      "\u001b[1m993/993\u001b[0m \u001b[32m━━━━━━━━━━━━━━━━━━━━\u001b[0m\u001b[37m\u001b[0m \u001b[1m28s\u001b[0m 28ms/step - loss: 6.0248e-06 - val_loss: 0.0011\n",
      "Epoch 50/50\n",
      "\u001b[1m993/993\u001b[0m \u001b[32m━━━━━━━━━━━━━━━━━━━━\u001b[0m\u001b[37m\u001b[0m \u001b[1m29s\u001b[0m 29ms/step - loss: 1.9229e-06 - val_loss: 0.0014\n",
      "\u001b[1m993/993\u001b[0m \u001b[32m━━━━━━━━━━━━━━━━━━━━\u001b[0m\u001b[37m\u001b[0m \u001b[1m12s\u001b[0m 12ms/step\n",
      "\u001b[1m425/425\u001b[0m \u001b[32m━━━━━━━━━━━━━━━━━━━━\u001b[0m\u001b[37m\u001b[0m \u001b[1m5s\u001b[0m 11ms/step\n"
     ]
    }
   ],
   "source": [
    "time_step = 60\n",
    "X_train_seq, y_train_seq = create_dataset(X_train, y_train, time_step)\n",
    "X_test_seq, y_test_seq = create_dataset(X_test, y_test, time_step)\n",
    "\n",
    "input_shape = (X_train_seq.shape[1], X_train_seq.shape[2])\n",
    "model = build_model(input_shape)\n",
    "\n",
    "history = model.fit(X_train_seq, y_train_seq, epochs=50, batch_size=32, \n",
    "                    validation_data=(X_test_seq, y_test_seq), verbose=1)\n",
    "\n",
    "train_predict = model.predict(X_train_seq)\n",
    "test_predict = model.predict(X_test_seq)"
   ]
  },
  {
   "cell_type": "code",
   "execution_count": 9,
   "metadata": {},
   "outputs": [],
   "source": [
    "train_predict_inv = scaler_y.inverse_transform(train_predict)\n",
    "y_train_inv = scaler_y.inverse_transform(y_train_seq)\n",
    "test_predict_inv = scaler_y.inverse_transform(test_predict)\n",
    "y_test_inv = scaler_y.inverse_transform(y_test_seq)"
   ]
  },
  {
   "cell_type": "code",
   "execution_count": null,
   "metadata": {},
   "outputs": [],
   "source": [
    "output_folder = 'C:/Users/genty/Hiwi-TimeSeries/output/Tucker Decomposition/'\n",
    "filenamefinal = os.path.join(output_folder, f'results_TD.csv')\n"
   ]
  },
  {
   "cell_type": "code",
   "execution_count": 15,
   "metadata": {},
   "outputs": [
    {
     "name": "stdout",
     "output_type": "stream",
     "text": [
      "Train RMSE: 0.017923045525619533\n",
      "Test RMSE: 0.49925315560984823\n",
      "Train R2: 0.9997318262231167\n",
      "Test R2: 0.8937151112885644\n"
     ]
    }
   ],
   "source": [
    "train_r2 = r2_score(y_train_inv, train_predict_inv)\n",
    "test_r2 = r2_score(y_test_inv, test_predict_inv)\n",
    "train_rmse = np.sqrt(mean_squared_error(y_train_inv, train_predict_inv))\n",
    "test_rmse = np.sqrt(mean_squared_error(y_test_inv, test_predict_inv))\n",
    "\n",
    "print(\"Train RMSE:\", train_rmse)\n",
    "print(\"Test RMSE:\", test_rmse)\n",
    "print(\"Train R2:\", train_r2)\n",
    "print(\"Test R2:\", test_r2)\n",
    "\n",
    "results = pd.DataFrame([{\n",
    "        'No.of Features': '20',\n",
    "        'Train_R2': train_r2,\n",
    "        'Test_R2': test_r2,\n",
    "        'Train_RMSE': train_rmse,\n",
    "        'Test_RMSE': test_rmse}])\n",
    "\n",
    "result_df = pd.concat([result_df,results], ignore_index=True)\n",
    "result_df.to_csv(filenamefinal, index=False)"
   ]
  },
  {
   "cell_type": "markdown",
   "metadata": {},
   "source": [
    "### Trying out three different no. of features as rank :"
   ]
  },
  {
   "cell_type": "code",
   "execution_count": 17,
   "metadata": {},
   "outputs": [],
   "source": [
    "output_folder = 'C:/Users/genty/Hiwi-TimeSeries/output/Tucker Decomposition/'\n",
    "result_df = pd.read_csv('C:/Users/genty/Hiwi-TimeSeries/output/Tucker Decomposition/results_TD.csv')\n",
    "\n",
    "#result_df = pd.DataFrame(columns=['No.of Features', 'Train_R2', 'Test_R2','Train_RMSE', 'Test_RMSE'])\n",
    "filenamefinal = os.path.join(output_folder, f'results_TD.csv')"
   ]
  },
  {
   "cell_type": "code",
   "execution_count": 32,
   "metadata": {},
   "outputs": [],
   "source": [
    "with open(\"tucker_decomposition_15.pkl\", \"rb\") as f:\n",
    "    core, factors = pickle.load(f)"
   ]
  },
  {
   "cell_type": "code",
   "execution_count": 28,
   "metadata": {},
   "outputs": [],
   "source": [
    "X_reduced = core.reshape(core.shape[2], -1)\n",
    "train_size = int(len(X_reduced) * 0.7)\n",
    "test_size = len(X_reduced) - train_size\n",
    "X_train, X_test = X_reduced[:train_size], X_reduced[train_size:]\n",
    "y_train, y_test = target_norm[:train_size], target_norm[train_size:]"
   ]
  },
  {
   "cell_type": "code",
   "execution_count": 29,
   "metadata": {},
   "outputs": [
    {
     "name": "stderr",
     "output_type": "stream",
     "text": [
      "C:\\Users\\genty\\AppData\\Roaming\\Python\\Python312\\site-packages\\keras\\src\\layers\\rnn\\rnn.py:204: UserWarning: Do not pass an `input_shape`/`input_dim` argument to a layer. When using Sequential models, prefer using an `Input(shape)` object as the first layer in the model instead.\n",
      "  super().__init__(**kwargs)\n"
     ]
    },
    {
     "name": "stdout",
     "output_type": "stream",
     "text": [
      "Epoch 1/50\n",
      "\u001b[1m993/993\u001b[0m \u001b[32m━━━━━━━━━━━━━━━━━━━━\u001b[0m\u001b[37m\u001b[0m \u001b[1m33s\u001b[0m 28ms/step - loss: 0.0120 - val_loss: 0.0150\n",
      "Epoch 2/50\n",
      "\u001b[1m993/993\u001b[0m \u001b[32m━━━━━━━━━━━━━━━━━━━━\u001b[0m\u001b[37m\u001b[0m \u001b[1m28s\u001b[0m 28ms/step - loss: 0.0068 - val_loss: 0.0162\n",
      "Epoch 3/50\n",
      "\u001b[1m993/993\u001b[0m \u001b[32m━━━━━━━━━━━━━━━━━━━━\u001b[0m\u001b[37m\u001b[0m \u001b[1m28s\u001b[0m 28ms/step - loss: 0.0067 - val_loss: 0.0156\n",
      "Epoch 4/50\n",
      "\u001b[1m993/993\u001b[0m \u001b[32m━━━━━━━━━━━━━━━━━━━━\u001b[0m\u001b[37m\u001b[0m \u001b[1m28s\u001b[0m 29ms/step - loss: 0.0066 - val_loss: 0.0169\n",
      "Epoch 5/50\n",
      "\u001b[1m993/993\u001b[0m \u001b[32m━━━━━━━━━━━━━━━━━━━━\u001b[0m\u001b[37m\u001b[0m \u001b[1m29s\u001b[0m 29ms/step - loss: 0.0066 - val_loss: 0.0143\n",
      "Epoch 6/50\n",
      "\u001b[1m993/993\u001b[0m \u001b[32m━━━━━━━━━━━━━━━━━━━━\u001b[0m\u001b[37m\u001b[0m \u001b[1m29s\u001b[0m 30ms/step - loss: 0.0068 - val_loss: 0.0145\n",
      "Epoch 7/50\n",
      "\u001b[1m993/993\u001b[0m \u001b[32m━━━━━━━━━━━━━━━━━━━━\u001b[0m\u001b[37m\u001b[0m \u001b[1m30s\u001b[0m 30ms/step - loss: 0.0066 - val_loss: 0.0148\n",
      "Epoch 8/50\n",
      "\u001b[1m993/993\u001b[0m \u001b[32m━━━━━━━━━━━━━━━━━━━━\u001b[0m\u001b[37m\u001b[0m \u001b[1m30s\u001b[0m 30ms/step - loss: 0.0065 - val_loss: 0.0159\n",
      "Epoch 9/50\n",
      "\u001b[1m993/993\u001b[0m \u001b[32m━━━━━━━━━━━━━━━━━━━━\u001b[0m\u001b[37m\u001b[0m \u001b[1m31s\u001b[0m 31ms/step - loss: 0.0066 - val_loss: 0.0141\n",
      "Epoch 10/50\n",
      "\u001b[1m993/993\u001b[0m \u001b[32m━━━━━━━━━━━━━━━━━━━━\u001b[0m\u001b[37m\u001b[0m \u001b[1m31s\u001b[0m 31ms/step - loss: 0.0063 - val_loss: 0.0148\n",
      "Epoch 11/50\n",
      "\u001b[1m993/993\u001b[0m \u001b[32m━━━━━━━━━━━━━━━━━━━━\u001b[0m\u001b[37m\u001b[0m \u001b[1m32s\u001b[0m 32ms/step - loss: 0.0067 - val_loss: 0.0148\n",
      "Epoch 12/50\n",
      "\u001b[1m993/993\u001b[0m \u001b[32m━━━━━━━━━━━━━━━━━━━━\u001b[0m\u001b[37m\u001b[0m \u001b[1m31s\u001b[0m 31ms/step - loss: 0.0064 - val_loss: 0.0144\n",
      "Epoch 13/50\n",
      "\u001b[1m993/993\u001b[0m \u001b[32m━━━━━━━━━━━━━━━━━━━━\u001b[0m\u001b[37m\u001b[0m \u001b[1m31s\u001b[0m 31ms/step - loss: 0.0068 - val_loss: 0.0148\n",
      "Epoch 14/50\n",
      "\u001b[1m993/993\u001b[0m \u001b[32m━━━━━━━━━━━━━━━━━━━━\u001b[0m\u001b[37m\u001b[0m \u001b[1m31s\u001b[0m 31ms/step - loss: 0.0064 - val_loss: 0.0143\n",
      "Epoch 15/50\n",
      "\u001b[1m993/993\u001b[0m \u001b[32m━━━━━━━━━━━━━━━━━━━━\u001b[0m\u001b[37m\u001b[0m \u001b[1m32s\u001b[0m 32ms/step - loss: 0.0067 - val_loss: 0.0154\n",
      "Epoch 16/50\n",
      "\u001b[1m993/993\u001b[0m \u001b[32m━━━━━━━━━━━━━━━━━━━━\u001b[0m\u001b[37m\u001b[0m \u001b[1m31s\u001b[0m 32ms/step - loss: 0.0064 - val_loss: 0.0150\n",
      "Epoch 17/50\n",
      "\u001b[1m993/993\u001b[0m \u001b[32m━━━━━━━━━━━━━━━━━━━━\u001b[0m\u001b[37m\u001b[0m \u001b[1m32s\u001b[0m 32ms/step - loss: 0.0067 - val_loss: 0.0150\n",
      "Epoch 18/50\n",
      "\u001b[1m993/993\u001b[0m \u001b[32m━━━━━━━━━━━━━━━━━━━━\u001b[0m\u001b[37m\u001b[0m \u001b[1m32s\u001b[0m 32ms/step - loss: 0.0065 - val_loss: 0.0148\n",
      "Epoch 19/50\n",
      "\u001b[1m993/993\u001b[0m \u001b[32m━━━━━━━━━━━━━━━━━━━━\u001b[0m\u001b[37m\u001b[0m \u001b[1m32s\u001b[0m 32ms/step - loss: 0.0065 - val_loss: 0.0145\n",
      "Epoch 20/50\n",
      "\u001b[1m993/993\u001b[0m \u001b[32m━━━━━━━━━━━━━━━━━━━━\u001b[0m\u001b[37m\u001b[0m \u001b[1m32s\u001b[0m 32ms/step - loss: 0.0065 - val_loss: 0.0154\n",
      "Epoch 21/50\n",
      "\u001b[1m993/993\u001b[0m \u001b[32m━━━━━━━━━━━━━━━━━━━━\u001b[0m\u001b[37m\u001b[0m \u001b[1m32s\u001b[0m 33ms/step - loss: 0.0065 - val_loss: 0.0145\n",
      "Epoch 22/50\n",
      "\u001b[1m993/993\u001b[0m \u001b[32m━━━━━━━━━━━━━━━━━━━━\u001b[0m\u001b[37m\u001b[0m \u001b[1m32s\u001b[0m 32ms/step - loss: 0.0065 - val_loss: 0.0164\n",
      "Epoch 23/50\n",
      "\u001b[1m993/993\u001b[0m \u001b[32m━━━━━━━━━━━━━━━━━━━━\u001b[0m\u001b[37m\u001b[0m \u001b[1m32s\u001b[0m 33ms/step - loss: 0.0066 - val_loss: 0.0144\n",
      "Epoch 24/50\n",
      "\u001b[1m993/993\u001b[0m \u001b[32m━━━━━━━━━━━━━━━━━━━━\u001b[0m\u001b[37m\u001b[0m \u001b[1m32s\u001b[0m 33ms/step - loss: 0.0063 - val_loss: 0.0155\n",
      "Epoch 25/50\n",
      "\u001b[1m993/993\u001b[0m \u001b[32m━━━━━━━━━━━━━━━━━━━━\u001b[0m\u001b[37m\u001b[0m \u001b[1m33s\u001b[0m 33ms/step - loss: 0.0067 - val_loss: 0.0148\n",
      "Epoch 26/50\n",
      "\u001b[1m993/993\u001b[0m \u001b[32m━━━━━━━━━━━━━━━━━━━━\u001b[0m\u001b[37m\u001b[0m \u001b[1m33s\u001b[0m 33ms/step - loss: 0.0063 - val_loss: 0.0152\n",
      "Epoch 27/50\n",
      "\u001b[1m993/993\u001b[0m \u001b[32m━━━━━━━━━━━━━━━━━━━━\u001b[0m\u001b[37m\u001b[0m \u001b[1m33s\u001b[0m 33ms/step - loss: 0.0067 - val_loss: 0.0149\n",
      "Epoch 28/50\n",
      "\u001b[1m993/993\u001b[0m \u001b[32m━━━━━━━━━━━━━━━━━━━━\u001b[0m\u001b[37m\u001b[0m \u001b[1m33s\u001b[0m 33ms/step - loss: 0.0068 - val_loss: 0.0158\n",
      "Epoch 29/50\n",
      "\u001b[1m993/993\u001b[0m \u001b[32m━━━━━━━━━━━━━━━━━━━━\u001b[0m\u001b[37m\u001b[0m \u001b[1m33s\u001b[0m 33ms/step - loss: 0.0065 - val_loss: 0.0147\n",
      "Epoch 30/50\n",
      "\u001b[1m993/993\u001b[0m \u001b[32m━━━━━━━━━━━━━━━━━━━━\u001b[0m\u001b[37m\u001b[0m \u001b[1m33s\u001b[0m 33ms/step - loss: 0.0065 - val_loss: 0.0144\n",
      "Epoch 31/50\n",
      "\u001b[1m993/993\u001b[0m \u001b[32m━━━━━━━━━━━━━━━━━━━━\u001b[0m\u001b[37m\u001b[0m \u001b[1m33s\u001b[0m 33ms/step - loss: 0.0065 - val_loss: 0.0143\n",
      "Epoch 32/50\n",
      "\u001b[1m993/993\u001b[0m \u001b[32m━━━━━━━━━━━━━━━━━━━━\u001b[0m\u001b[37m\u001b[0m \u001b[1m32s\u001b[0m 33ms/step - loss: 0.0065 - val_loss: 0.0148\n",
      "Epoch 33/50\n",
      "\u001b[1m993/993\u001b[0m \u001b[32m━━━━━━━━━━━━━━━━━━━━\u001b[0m\u001b[37m\u001b[0m \u001b[1m33s\u001b[0m 33ms/step - loss: 0.0065 - val_loss: 0.0145\n",
      "Epoch 34/50\n",
      "\u001b[1m993/993\u001b[0m \u001b[32m━━━━━━━━━━━━━━━━━━━━\u001b[0m\u001b[37m\u001b[0m \u001b[1m32s\u001b[0m 33ms/step - loss: 0.0066 - val_loss: 0.0151\n",
      "Epoch 35/50\n",
      "\u001b[1m993/993\u001b[0m \u001b[32m━━━━━━━━━━━━━━━━━━━━\u001b[0m\u001b[37m\u001b[0m \u001b[1m33s\u001b[0m 33ms/step - loss: 0.0064 - val_loss: 0.0150\n",
      "Epoch 36/50\n",
      "\u001b[1m993/993\u001b[0m \u001b[32m━━━━━━━━━━━━━━━━━━━━\u001b[0m\u001b[37m\u001b[0m \u001b[1m33s\u001b[0m 33ms/step - loss: 0.0065 - val_loss: 0.0159\n",
      "Epoch 37/50\n",
      "\u001b[1m993/993\u001b[0m \u001b[32m━━━━━━━━━━━━━━━━━━━━\u001b[0m\u001b[37m\u001b[0m \u001b[1m33s\u001b[0m 33ms/step - loss: 0.0067 - val_loss: 0.0149\n",
      "Epoch 38/50\n",
      "\u001b[1m993/993\u001b[0m \u001b[32m━━━━━━━━━━━━━━━━━━━━\u001b[0m\u001b[37m\u001b[0m \u001b[1m33s\u001b[0m 33ms/step - loss: 0.0066 - val_loss: 0.0161\n",
      "Epoch 39/50\n",
      "\u001b[1m993/993\u001b[0m \u001b[32m━━━━━━━━━━━━━━━━━━━━\u001b[0m\u001b[37m\u001b[0m \u001b[1m33s\u001b[0m 33ms/step - loss: 0.0067 - val_loss: 0.0152\n",
      "Epoch 40/50\n",
      "\u001b[1m993/993\u001b[0m \u001b[32m━━━━━━━━━━━━━━━━━━━━\u001b[0m\u001b[37m\u001b[0m \u001b[1m33s\u001b[0m 33ms/step - loss: 0.0066 - val_loss: 0.0148\n",
      "Epoch 41/50\n",
      "\u001b[1m993/993\u001b[0m \u001b[32m━━━━━━━━━━━━━━━━━━━━\u001b[0m\u001b[37m\u001b[0m \u001b[1m33s\u001b[0m 33ms/step - loss: 0.0065 - val_loss: 0.0149\n",
      "Epoch 42/50\n",
      "\u001b[1m993/993\u001b[0m \u001b[32m━━━━━━━━━━━━━━━━━━━━\u001b[0m\u001b[37m\u001b[0m \u001b[1m33s\u001b[0m 33ms/step - loss: 0.0063 - val_loss: 0.0151\n",
      "Epoch 43/50\n",
      "\u001b[1m993/993\u001b[0m \u001b[32m━━━━━━━━━━━━━━━━━━━━\u001b[0m\u001b[37m\u001b[0m \u001b[1m33s\u001b[0m 33ms/step - loss: 0.0065 - val_loss: 0.0146\n",
      "Epoch 44/50\n",
      "\u001b[1m993/993\u001b[0m \u001b[32m━━━━━━━━━━━━━━━━━━━━\u001b[0m\u001b[37m\u001b[0m \u001b[1m32s\u001b[0m 33ms/step - loss: 0.0066 - val_loss: 0.0145\n",
      "Epoch 45/50\n",
      "\u001b[1m993/993\u001b[0m \u001b[32m━━━━━━━━━━━━━━━━━━━━\u001b[0m\u001b[37m\u001b[0m \u001b[1m33s\u001b[0m 33ms/step - loss: 0.0067 - val_loss: 0.0155\n",
      "Epoch 46/50\n",
      "\u001b[1m993/993\u001b[0m \u001b[32m━━━━━━━━━━━━━━━━━━━━\u001b[0m\u001b[37m\u001b[0m \u001b[1m33s\u001b[0m 33ms/step - loss: 0.0066 - val_loss: 0.0147\n",
      "Epoch 47/50\n",
      "\u001b[1m993/993\u001b[0m \u001b[32m━━━━━━━━━━━━━━━━━━━━\u001b[0m\u001b[37m\u001b[0m \u001b[1m33s\u001b[0m 33ms/step - loss: 0.0067 - val_loss: 0.0149\n",
      "Epoch 48/50\n",
      "\u001b[1m993/993\u001b[0m \u001b[32m━━━━━━━━━━━━━━━━━━━━\u001b[0m\u001b[37m\u001b[0m \u001b[1m33s\u001b[0m 33ms/step - loss: 0.0065 - val_loss: 0.0147\n",
      "Epoch 49/50\n",
      "\u001b[1m993/993\u001b[0m \u001b[32m━━━━━━━━━━━━━━━━━━━━\u001b[0m\u001b[37m\u001b[0m \u001b[1m33s\u001b[0m 33ms/step - loss: 0.0065 - val_loss: 0.0143\n",
      "Epoch 50/50\n",
      "\u001b[1m993/993\u001b[0m \u001b[32m━━━━━━━━━━━━━━━━━━━━\u001b[0m\u001b[37m\u001b[0m \u001b[1m33s\u001b[0m 33ms/step - loss: 0.0066 - val_loss: 0.0149\n",
      "\u001b[1m993/993\u001b[0m \u001b[32m━━━━━━━━━━━━━━━━━━━━\u001b[0m\u001b[37m\u001b[0m \u001b[1m10s\u001b[0m 10ms/step\n",
      "\u001b[1m425/425\u001b[0m \u001b[32m━━━━━━━━━━━━━━━━━━━━\u001b[0m\u001b[37m\u001b[0m \u001b[1m4s\u001b[0m 9ms/step\n"
     ]
    }
   ],
   "source": [
    "time_step = 60\n",
    "X_train_seq, y_train_seq = create_dataset(X_train, y_train, time_step)\n",
    "X_test_seq, y_test_seq = create_dataset(X_test, y_test, time_step)\n",
    "\n",
    "input_shape = (X_train_seq.shape[1], X_train_seq.shape[2])\n",
    "model = build_model(input_shape)\n",
    "\n",
    "history = model.fit(X_train_seq, y_train_seq, epochs=50, batch_size=32, \n",
    "                    validation_data=(X_test_seq, y_test_seq), verbose=1)\n",
    "\n",
    "train_predict = model.predict(X_train_seq)\n",
    "test_predict = model.predict(X_test_seq)"
   ]
  },
  {
   "cell_type": "code",
   "execution_count": 30,
   "metadata": {},
   "outputs": [],
   "source": [
    "train_predict_inv = scaler_y.inverse_transform(train_predict)\n",
    "y_train_inv = scaler_y.inverse_transform(y_train_seq)\n",
    "test_predict_inv = scaler_y.inverse_transform(test_predict)\n",
    "y_test_inv = scaler_y.inverse_transform(y_test_seq)"
   ]
  },
  {
   "cell_type": "code",
   "execution_count": 31,
   "metadata": {},
   "outputs": [
    {
     "name": "stdout",
     "output_type": "stream",
     "text": [
      "Train RMSE: 1.0845077648057375\n",
      "Test RMSE: 1.6403309541613627\n",
      "Train R2: 0.01812088097470632\n",
      "Test R2: -0.14734187841114954\n"
     ]
    }
   ],
   "source": [
    "train_r2 = r2_score(y_train_inv, train_predict_inv)\n",
    "test_r2 = r2_score(y_test_inv, test_predict_inv)\n",
    "train_rmse = np.sqrt(mean_squared_error(y_train_inv, train_predict_inv))\n",
    "test_rmse = np.sqrt(mean_squared_error(y_test_inv, test_predict_inv))\n",
    "\n",
    "print(\"Train RMSE:\", train_rmse)\n",
    "print(\"Test RMSE:\", test_rmse)\n",
    "print(\"Train R2:\", train_r2)\n",
    "print(\"Test R2:\", test_r2)\n",
    "\n",
    "results = pd.DataFrame([{\n",
    "        'No.of Features': '20',\n",
    "        'Train_R2': train_r2,\n",
    "        'Test_R2': test_r2,\n",
    "        'Train_RMSE': train_rmse,\n",
    "        'Test_RMSE': test_rmse}])\n",
    "\n",
    "result_df = pd.concat([result_df,results], ignore_index=True)\n",
    "result_df.to_csv(filenamefinal, index=False)"
   ]
  }
 ],
 "metadata": {
  "kernelspec": {
   "display_name": "Python 3",
   "language": "python",
   "name": "python3"
  },
  "language_info": {
   "codemirror_mode": {
    "name": "ipython",
    "version": 3
   },
   "file_extension": ".py",
   "mimetype": "text/x-python",
   "name": "python",
   "nbconvert_exporter": "python",
   "pygments_lexer": "ipython3",
   "version": "3.12.7"
  }
 },
 "nbformat": 4,
 "nbformat_minor": 2
}
