{
 "cells": [
  {
   "cell_type": "code",
   "execution_count": 1,
   "metadata": {},
   "outputs": [],
   "source": [
    "import warnings\n",
    "warnings.filterwarnings(\"ignore\")\n",
    "\n",
    "import numpy as np\n",
    "import pandas as pd\n",
    "import matplotlib.pyplot as plt\n",
    "import random\n",
    "\n",
    "from sklearn.model_selection import train_test_split\n",
    "from sklearn.ensemble import RandomForestRegressor\n",
    "\n",
    "from sklearn.metrics import mean_absolute_error, mean_squared_error, r2_score"
   ]
  },
  {
   "cell_type": "code",
   "execution_count": 2,
   "metadata": {},
   "outputs": [],
   "source": [
    "file_path = '/home/genty/Hiwi-TimeSeries/Hiwi-TimeSeries/dataset/DMC60H/AL2007_Bauteil_1/I40_Alu_Tr_Mat_1_alldata_allforces_MRR_allcurrent.csv'\n",
    "df = pd.read_csv(file_path)"
   ]
  },
  {
   "cell_type": "code",
   "execution_count": 3,
   "metadata": {},
   "outputs": [],
   "source": [
    "def plot_prediction(y_test, y_pred, title):\n",
    "    plt.figure(figsize=(16, 4))\n",
    "    num_points = min(len(y_test), 10000)\n",
    "    x_values = np.arange(num_points)\n",
    "    plt.plot(x_values, y_test[:num_points], label='Actual Current', alpha=0.7)\n",
    "    plt.plot(x_values, y_pred[:num_points], label='Predicted Current', alpha=0.5)\n",
    "    plt.ylim(0, 30)  # Set y-axis limits from 0 to 30\n",
    "    plt.xlabel('Index')\n",
    "    plt.ylabel('Current')\n",
    "    plt.title('Actual vs. Predicted Current - ' + title)\n",
    "    plt.legend()\n",
    "    plt.show()\n"
   ]
  },
  {
   "cell_type": "code",
   "execution_count": 3,
   "metadata": {},
   "outputs": [],
   "source": [
    "def fit_predict(model, X_train, X_test, y_train, y_test, title):\n",
    "    model.fit(X_train, y_train)\n",
    "    y_pred = model.predict(X_test)\n",
    "    #print(y_pred)\n",
    "    mae = mean_absolute_error(y_test, y_pred)\n",
    "    mse = mean_squared_error(y_test, y_pred)\n",
    "    r2 = r2_score(y_test, y_pred)\n",
    "    mape = np.mean(np.abs((y_test - y_pred) / y_test)) * 100\n",
    "    #dtw_dist = dtw_distbance(y_test, y_pred)\n",
    "\n",
    "    print(\"Mean Absolute Error:\", mae)\n",
    "    print(\"Mean Squared Error:\", mse)\n",
    "    #print(\"Root Mean Squared Error:\", np.sqrt(mse))\n",
    "    print(\"R-squared Score:\", r2)\n",
    "    print(\"Mean Absolute Percentage Error:\", mape)\n",
    "    #print(\"DTW Distance:\", dtw_dist)\n",
    "\n",
    "    #plot_prediction(y_test, y_pred, title)\n",
    "    #return y_pred\n",
    "    #residual_analysis(y_test, y_pred)"
   ]
  },
  {
   "cell_type": "code",
   "execution_count": 4,
   "metadata": {},
   "outputs": [
    {
     "data": {
      "text/plain": [
       "Index(['a_x_sim', 'a_y_sim', 'a_z_sim', 'a_sp_sim', 'v_x_sim', 'v_y_sim',\n",
       "       'v_z_sim', 'v_sp_sim', 'pos_x_sim', 'pos_y_sim', 'pos_z_sim', 'f_x_sim',\n",
       "       'f_y_sim', 'f_z_sim', 'f_sp_sim', 'm_sp_sim', 'materialremoved_sim',\n",
       "       'a_x', 'a_y', 'a_z', 'a_sp', 'v_x', 'v_y', 'v_z', 'v_sp', 'pos_x',\n",
       "       'pos_y', 'pos_z', 'pos_sp', 'curr_x', 'curr_y', 'curr_z', 'curr_sp'],\n",
       "      dtype='object')"
      ]
     },
     "execution_count": 4,
     "metadata": {},
     "output_type": "execute_result"
    }
   ],
   "source": [
    "df.columns"
   ]
  },
  {
   "cell_type": "code",
   "execution_count": 11,
   "metadata": {},
   "outputs": [],
   "source": [
    "#df.drop('Unnamed: 0', axis=1, inplace=True)\n",
    "#df = df[['a_x', 'a_y', 'a_z', 'a_sp', 'v_x', 'v_y', 'v_z', 'v_sp', 'pos_x',\n",
    "#       'pos_y', 'pos_z', 'pos_sp', 'f_x_sim', 'f_y_sim', 'f_z_sim', 'f_sp_sim', 'm_sp_sim', \n",
    "#       'materialremoved_sim','curr_x', 'curr_y', 'curr_z', 'curr_sp']]\n",
    "df = df[['a_x', 'a_y', 'a_z', 'a_sp', 'v_x', 'v_y', 'v_z', 'v_sp', 'pos_x', 'pos_y', 'pos_z', 'pos_sp', 'curr_x', 'curr_y', 'curr_z', 'curr_sp']]\n",
    "X = df.drop(columns=['curr_x', 'curr_y', 'curr_z', 'curr_sp'])\n",
    "y1 = df['curr_x']\n",
    "y2 = df['curr_y']\n",
    "y3 = df['curr_z']\n",
    "y4 = df['curr_sp']\n",
    "y5 = df[['curr_x', 'curr_y', 'curr_z', 'curr_sp']].abs().sum(axis=1)"
   ]
  },
  {
   "cell_type": "code",
   "execution_count": 6,
   "metadata": {},
   "outputs": [],
   "source": [
    "df2 = pd.read_csv('/home/genty/Hiwi-TimeSeries/Hiwi-TimeSeries/dataset/DMC60H/AL2007_Bauteil_2/I40_Alu_Val_Mat_1_alldata_allforces_MRR_allcurrent.csv')\n",
    "df3 = pd.read_csv('/home/genty/Hiwi-TimeSeries/Hiwi-TimeSeries/dataset/DMC60H/S235JR_Bauteil_1/I40_St_Tr_Mat_1_alldata_allforces_MRR_allcurrent.csv')\n",
    "df4 = pd.read_csv('/home/genty/Hiwi-TimeSeries/Hiwi-TimeSeries/dataset/DMC60H/S235JR_Bauteil_2/I40_St_Val_Mat_1_alldata_allforces_MRR_allcurrent.csv')"
   ]
  },
  {
   "cell_type": "code",
   "execution_count": 12,
   "metadata": {},
   "outputs": [],
   "source": [
    "df2 = df2[['a_x', 'a_y', 'a_z', 'a_sp', 'v_x', 'v_y', 'v_z', 'v_sp', 'pos_x',\n",
    "       'pos_y', 'pos_z', 'pos_sp', 'curr_x', 'curr_y', 'curr_z', 'curr_sp']]\n",
    "df3 = df3[['a_x', 'a_y', 'a_z', 'a_sp', 'v_x', 'v_y', 'v_z', 'v_sp', 'pos_x',\n",
    "       'pos_y', 'pos_z', 'pos_sp','curr_x', 'curr_y', 'curr_z', 'curr_sp']]\n",
    "df4 = df4[['a_x', 'a_y', 'a_z', 'a_sp', 'v_x', 'v_y', 'v_z', 'v_sp', 'pos_x',\n",
    "       'pos_y', 'pos_z', 'pos_sp', 'curr_x', 'curr_y', 'curr_z', 'curr_sp']]"
   ]
  },
  {
   "cell_type": "code",
   "execution_count": 25,
   "metadata": {},
   "outputs": [],
   "source": [
    "X_test = df2.drop(columns=['curr_x', 'curr_y', 'curr_z', 'curr_sp'])\n",
    "y1_test = df2['curr_x']\n",
    "y2_test = df2['curr_y']\n",
    "y3_test = df2['curr_z']\n",
    "y4_test = df2['curr_sp']\n",
    "y5_test = df2[['curr_x', 'curr_y', 'curr_z', 'curr_sp']].abs().sum(axis=1)"
   ]
  },
  {
   "cell_type": "code",
   "execution_count": 26,
   "metadata": {},
   "outputs": [
    {
     "name": "stdout",
     "output_type": "stream",
     "text": [
      "Mean Absolute Error: 0.8069499372890767\n",
      "Mean Squared Error: 4.814813598711126\n",
      "R-squared Score: 0.47178900980603633\n",
      "Mean Absolute Percentage Error: 9.878228593280866\n"
     ]
    }
   ],
   "source": [
    "rf_model = RandomForestRegressor()\n",
    "fit_predict(rf_model, X, X_test, y5, y5_test, 'General Random Forest')"
   ]
  },
  {
   "cell_type": "code",
   "execution_count": 27,
   "metadata": {},
   "outputs": [
    {
     "name": "stdout",
     "output_type": "stream",
     "text": [
      "Mean Absolute Error: 0.4904759569789034\n",
      "Mean Squared Error: 4.62251899109823\n",
      "R-squared Score: 0.3851581230952462\n",
      "Mean Absolute Percentage Error: inf\n"
     ]
    }
   ],
   "source": [
    "rf_model = RandomForestRegressor()\n",
    "fit_predict(rf_model, X, X_test, y4, y4_test, 'General Random Forest')"
   ]
  },
  {
   "cell_type": "code",
   "execution_count": 28,
   "metadata": {},
   "outputs": [
    {
     "name": "stdout",
     "output_type": "stream",
     "text": [
      "Mean Absolute Error: 0.0868864858900294\n",
      "Mean Squared Error: 0.019205315078604936\n",
      "R-squared Score: 0.9720407932796442\n",
      "Mean Absolute Percentage Error: 25.125494152404883\n"
     ]
    }
   ],
   "source": [
    "rf_model = RandomForestRegressor()\n",
    "fit_predict(rf_model, X, X_test, y3, y3_test, 'General Random Forest')"
   ]
  },
  {
   "cell_type": "code",
   "execution_count": 29,
   "metadata": {},
   "outputs": [
    {
     "name": "stdout",
     "output_type": "stream",
     "text": [
      "Mean Absolute Error: 0.1650631666266054\n",
      "Mean Squared Error: 0.06328535891202929\n",
      "R-squared Score: 0.7551439179437627\n",
      "Mean Absolute Percentage Error: 3.224741309696655\n"
     ]
    }
   ],
   "source": [
    "rf_model = RandomForestRegressor()\n",
    "fit_predict(rf_model, X, X_test, y2, y2_test, 'General Random Forest')"
   ]
  },
  {
   "cell_type": "code",
   "execution_count": 30,
   "metadata": {},
   "outputs": [
    {
     "name": "stdout",
     "output_type": "stream",
     "text": [
      "Mean Absolute Error: 0.09995225915252488\n",
      "Mean Squared Error: 0.02501192352202534\n",
      "R-squared Score: 0.9181649082538146\n",
      "Mean Absolute Percentage Error: 32.18769179906352\n"
     ]
    }
   ],
   "source": [
    "rf_model = RandomForestRegressor()\n",
    "fit_predict(rf_model, X, X_test, y1, y1_test, 'General Random Forest')"
   ]
  },
  {
   "cell_type": "code",
   "execution_count": null,
   "metadata": {},
   "outputs": [],
   "source": []
  },
  {
   "cell_type": "code",
   "execution_count": null,
   "metadata": {},
   "outputs": [],
   "source": []
  }
 ],
 "metadata": {
  "kernelspec": {
   "display_name": "Python 3",
   "language": "python",
   "name": "python3"
  },
  "language_info": {
   "codemirror_mode": {
    "name": "ipython",
    "version": 3
   },
   "file_extension": ".py",
   "mimetype": "text/x-python",
   "name": "python",
   "nbconvert_exporter": "python",
   "pygments_lexer": "ipython3",
   "version": "3.9.18"
  }
 },
 "nbformat": 4,
 "nbformat_minor": 2
}
