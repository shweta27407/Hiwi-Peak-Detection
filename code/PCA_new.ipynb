{
 "cells": [
  {
   "cell_type": "markdown",
   "metadata": {},
   "source": [
    "reulst_summary_lstm :\n",
    "decimal point, time in hh.mm.ss\n",
    "remove normalization and make one single table.\n",
    "\n",
    "TODO::\n",
    "Do for all 8 datasets. First the even 4, then odd 4. change the time() placement. \n",
    "Save actual and predicted target for every model.\n",
    "\n",
    "forward feature selection:\n",
    "model for first 3 ( i made)\n",
    "model for those 3 + iteratively add one from the given subset\n",
    "model for all the above\n",
    "model for all the above + ctrl_diff2|1"
   ]
  },
  {
   "cell_type": "code",
   "execution_count": 1,
   "metadata": {},
   "outputs": [],
   "source": [
    "import numpy as np\n",
    "import pandas as pd\n",
    "import matplotlib.pyplot as plt\n",
    "import os\n",
    "import time\n",
    "\n",
    "from sklearn.preprocessing import MinMaxScaler, StandardScaler\n",
    "from sklearn.metrics import mean_squared_error, r2_score\n",
    "from sklearn.ensemble import RandomForestRegressor\n",
    "\n",
    "from sklearn.ensemble import RandomForestClassifier\n",
    "from xgboost import XGBClassifier\n",
    "from sklearn.metrics import accuracy_score, f1_score, classification_report\n",
    "from sklearn.decomposition import PCA"
   ]
  },
  {
   "cell_type": "code",
   "execution_count": 3,
   "metadata": {},
   "outputs": [],
   "source": [
    "from tensorflow.keras.models import Sequential\n",
    "from tensorflow.keras.layers import LSTM, Dense\n",
    "from tensorflow.keras.optimizers import Adam"
   ]
  },
  {
   "cell_type": "code",
   "execution_count": 4,
   "metadata": {},
   "outputs": [],
   "source": [
    "file_path = ['C:/Users/genty/Hiwi-TimeSeries/dataset/DatAmount_dataset_new/1_CMX/CMX1_AL_CP1.csv',\n",
    "             'C:/Users/genty/Hiwi-TimeSeries/dataset/DatAmount_dataset_new/1_CMX/CMX1_AL_CP2.csv',\n",
    "             'C:/Users/genty/Hiwi-TimeSeries/dataset/DatAmount_dataset_new/1_CMX/CMX1_S_CP1.csv',\n",
    "             'C:/Users/genty/Hiwi-TimeSeries/dataset/DatAmount_dataset_new/1_CMX/CMX1_S_CP2.csv',\n",
    "             'C:/Users/genty/Hiwi-TimeSeries/dataset/DatAmount_dataset_new/2_DMC/DMC2_AL_CP1.csv',\n",
    "             'C:/Users/genty/Hiwi-TimeSeries/dataset/DatAmount_dataset_new/2_DMC/DMC2_AL_CP2.csv',\n",
    "             'C:/Users/genty/Hiwi-TimeSeries/dataset/DatAmount_dataset_new/2_DMC/DMC2_S_CP1.csv',\n",
    "             'C:/Users/genty/Hiwi-TimeSeries/dataset/DatAmount_dataset_new/2_DMC/DMC2_S_CP2.csv']"
   ]
  },
  {
   "cell_type": "code",
   "execution_count": 5,
   "metadata": {},
   "outputs": [],
   "source": [
    "features =  ['LOAD|1', 'LOAD|2', 'LOAD|3', 'LOAD|6',\n",
    "       'ENC_POS|1', 'ENC_POS|2', 'ENC_POS|3','ENC_POS|6',\n",
    "       'CTRL_DIFF2|1', 'CTRL_DIFF2|2', 'CTRL_DIFF2|3', 'CTRL_DIFF2|6',\n",
    "       'TORQUE|1', 'TORQUE|2', 'TORQUE|3', 'TORQUE|6',\n",
    "       'DES_POS|1', 'DES_POS|2', 'DES_POS|3', 'DES_POS|6',\n",
    "       'CTRL_DIFF|1', 'CTRL_DIFF|2', 'CTRL_DIFF|3' ,'CTRL_DIFF|6',\n",
    "       'CTRL_POS|1', 'CTRL_POS|2', 'CTRL_POS|3', 'CTRL_POS|6',\n",
    "       'VEL_FFW|1', 'VEL_FFW|2','VEL_FFW|3', 'VEL_FFW|6',\n",
    "       'CONT_DEV|1','CONT_DEV|2', 'CONT_DEV|3', 'CONT_DEV|6',\n",
    "       'CMD_SPEED|1', 'CMD_SPEED|2', 'CMD_SPEED|3', 'CMD_SPEED|6',\n",
    "       'TORQUE_FFW|1', 'TORQUE_FFW|2', 'TORQUE_FFW|3', 'TORQUE_FFW|6',\n",
    "       'ENC1_POS|1', 'ENC1_POS|2', 'ENC1_POS|3','ENC1_POS|6',\n",
    "       'ENC2_POS|1', 'ENC2_POS|2', 'ENC2_POS|3', 'ENC2_POS|6']\n",
    "\n",
    "feature_subset = ['TORQUE|6', 'LOAD|6', 'CMD_SPEED|6', 'VEL_FFW|6',  'VEL_FFW|1', 'VEL_FFW|2']\n",
    "#['TORQUE|6', 'LOAD|6', 'TORQUE_FFW|6', 'CTRL_DIFF2|1']\n",
    "target = 'CURRENT|6'"
   ]
  },
  {
   "cell_type": "code",
   "execution_count": 6,
   "metadata": {},
   "outputs": [],
   "source": [
    "data_split = [0.2, 0.3, 0.4, 0.5, 0.6, 0.7, 0.8]\n",
    "feature_list = [feature_subset, features]"
   ]
  },
  {
   "cell_type": "markdown",
   "metadata": {},
   "source": [
    "# RF"
   ]
  },
  {
   "cell_type": "code",
   "execution_count": null,
   "metadata": {},
   "outputs": [],
   "source": [
    "output_folder = '/home/genty/Hiwi-TimeSeries/Hiwi-TimeSeries/output/8dataset/'\n",
    "#result_df = pd.DataFrame(columns=['Dataset', 'Data_Split', 'Features', 'Normalization', 'Train_R2', 'Train_RMSE', 'Test_R2', 'Test_RMSE'])\n",
    "result_df = pd.read_csv('/home/genty/Hiwi-TimeSeries/Hiwi-TimeSeries/output/8dataset/result_summary_rf.csv')\n",
    "filenamefinal = os.path.join(output_folder, f'result_summary_rf.csv')"
   ]
  },
  {
   "cell_type": "code",
   "execution_count": null,
   "metadata": {},
   "outputs": [],
   "source": [
    "def normalize(X, y):\n",
    "    scaler_X = MinMaxScaler(feature_range=(0, 1))\n",
    "    scaler_y = MinMaxScaler(feature_range=(0, 1))\n",
    "    scaled_X = scaler_X.fit_transform(X)\n",
    "    scaled_y = scaler_y.fit_transform(y)\n",
    "    return scaler_X, scaler_y, scaled_X, scaled_y"
   ]
  },
  {
   "cell_type": "code",
   "execution_count": null,
   "metadata": {},
   "outputs": [
    {
     "name": "stderr",
     "output_type": "stream",
     "text": [
      "/home/genty/.local/lib/python3.9/site-packages/sklearn/base.py:1474: DataConversionWarning: A column-vector y was passed when a 1d array was expected. Please change the shape of y to (n_samples,), for example using ravel().\n",
      "  return fit_method(estimator, *args, **kwargs)\n"
     ]
    },
    {
     "name": "stdout",
     "output_type": "stream",
     "text": [
      "Done\n"
     ]
    },
    {
     "name": "stderr",
     "output_type": "stream",
     "text": [
      "/home/genty/.local/lib/python3.9/site-packages/sklearn/base.py:1474: DataConversionWarning: A column-vector y was passed when a 1d array was expected. Please change the shape of y to (n_samples,), for example using ravel().\n",
      "  return fit_method(estimator, *args, **kwargs)\n"
     ]
    },
    {
     "name": "stdout",
     "output_type": "stream",
     "text": [
      "Done\n"
     ]
    },
    {
     "name": "stderr",
     "output_type": "stream",
     "text": [
      "/home/genty/.local/lib/python3.9/site-packages/sklearn/base.py:1474: DataConversionWarning: A column-vector y was passed when a 1d array was expected. Please change the shape of y to (n_samples,), for example using ravel().\n",
      "  return fit_method(estimator, *args, **kwargs)\n"
     ]
    },
    {
     "name": "stdout",
     "output_type": "stream",
     "text": [
      "Done\n"
     ]
    },
    {
     "name": "stderr",
     "output_type": "stream",
     "text": [
      "/home/genty/.local/lib/python3.9/site-packages/sklearn/base.py:1474: DataConversionWarning: A column-vector y was passed when a 1d array was expected. Please change the shape of y to (n_samples,), for example using ravel().\n",
      "  return fit_method(estimator, *args, **kwargs)\n"
     ]
    },
    {
     "name": "stdout",
     "output_type": "stream",
     "text": [
      "Done\n"
     ]
    },
    {
     "name": "stderr",
     "output_type": "stream",
     "text": [
      "/home/genty/.local/lib/python3.9/site-packages/sklearn/base.py:1474: DataConversionWarning: A column-vector y was passed when a 1d array was expected. Please change the shape of y to (n_samples,), for example using ravel().\n",
      "  return fit_method(estimator, *args, **kwargs)\n"
     ]
    },
    {
     "name": "stdout",
     "output_type": "stream",
     "text": [
      "Done\n"
     ]
    },
    {
     "name": "stderr",
     "output_type": "stream",
     "text": [
      "/home/genty/.local/lib/python3.9/site-packages/sklearn/base.py:1474: DataConversionWarning: A column-vector y was passed when a 1d array was expected. Please change the shape of y to (n_samples,), for example using ravel().\n",
      "  return fit_method(estimator, *args, **kwargs)\n"
     ]
    },
    {
     "name": "stdout",
     "output_type": "stream",
     "text": [
      "Done\n"
     ]
    },
    {
     "name": "stderr",
     "output_type": "stream",
     "text": [
      "/home/genty/.local/lib/python3.9/site-packages/sklearn/base.py:1474: DataConversionWarning: A column-vector y was passed when a 1d array was expected. Please change the shape of y to (n_samples,), for example using ravel().\n",
      "  return fit_method(estimator, *args, **kwargs)\n"
     ]
    },
    {
     "name": "stdout",
     "output_type": "stream",
     "text": [
      "Done\n"
     ]
    },
    {
     "name": "stderr",
     "output_type": "stream",
     "text": [
      "/home/genty/.local/lib/python3.9/site-packages/sklearn/base.py:1474: DataConversionWarning: A column-vector y was passed when a 1d array was expected. Please change the shape of y to (n_samples,), for example using ravel().\n",
      "  return fit_method(estimator, *args, **kwargs)\n"
     ]
    },
    {
     "name": "stdout",
     "output_type": "stream",
     "text": [
      "Done\n"
     ]
    },
    {
     "name": "stderr",
     "output_type": "stream",
     "text": [
      "/home/genty/.local/lib/python3.9/site-packages/sklearn/base.py:1474: DataConversionWarning: A column-vector y was passed when a 1d array was expected. Please change the shape of y to (n_samples,), for example using ravel().\n",
      "  return fit_method(estimator, *args, **kwargs)\n"
     ]
    },
    {
     "name": "stdout",
     "output_type": "stream",
     "text": [
      "Done\n"
     ]
    },
    {
     "name": "stderr",
     "output_type": "stream",
     "text": [
      "/home/genty/.local/lib/python3.9/site-packages/sklearn/base.py:1474: DataConversionWarning: A column-vector y was passed when a 1d array was expected. Please change the shape of y to (n_samples,), for example using ravel().\n",
      "  return fit_method(estimator, *args, **kwargs)\n"
     ]
    },
    {
     "name": "stdout",
     "output_type": "stream",
     "text": [
      "Done\n"
     ]
    },
    {
     "name": "stderr",
     "output_type": "stream",
     "text": [
      "/home/genty/.local/lib/python3.9/site-packages/sklearn/base.py:1474: DataConversionWarning: A column-vector y was passed when a 1d array was expected. Please change the shape of y to (n_samples,), for example using ravel().\n",
      "  return fit_method(estimator, *args, **kwargs)\n"
     ]
    },
    {
     "name": "stdout",
     "output_type": "stream",
     "text": [
      "Done\n"
     ]
    },
    {
     "name": "stderr",
     "output_type": "stream",
     "text": [
      "/home/genty/.local/lib/python3.9/site-packages/sklearn/base.py:1474: DataConversionWarning: A column-vector y was passed when a 1d array was expected. Please change the shape of y to (n_samples,), for example using ravel().\n",
      "  return fit_method(estimator, *args, **kwargs)\n"
     ]
    },
    {
     "name": "stdout",
     "output_type": "stream",
     "text": [
      "Done\n"
     ]
    }
   ],
   "source": [
    "for file in file_path:\n",
    "    df = pd.read_csv(file)\n",
    "    for split_ratio in data_split:\n",
    "        for f in feature_list:\n",
    "            feature_type = 'all' if len(f) == len(features) else 'subset'\n",
    "            for n in norm:\n",
    "                X = df[f]\n",
    "                y = df[[target]]\n",
    "                rf_model = RandomForestRegressor()\n",
    "                if n == 'yes':\n",
    "                    scaler_X, scaler_y, scaled_X, scaled_y = normalize(X, y)\n",
    "                    X = scaled_X\n",
    "                    y = scaled_y\n",
    "                train_size = int(len(X) * split_ratio)\n",
    "                X_train, X_test = X[:train_size], X[train_size:]\n",
    "                y_train, y_test = y[:train_size], y[train_size:]\n",
    "\n",
    "                rf_model.fit(X_train, y_train)\n",
    "                train_pred = rf_model.predict(X_train)\n",
    "                test_pred = rf_model.predict(X_test)\n",
    "                #print(y_pred)\n",
    "                '''y_train = y_train.squeeze()\n",
    "                y_test = y_test.squeeze()\n",
    "\n",
    "                train_df = pd.DataFrame({\n",
    "                        'Train_y': y_train,\n",
    "                        'Train_pred_y': train_pred })\n",
    "                filename = os.path.join(output_folder, f'trains_{os.path.basename(file)}_3070.csv')\n",
    "                train_df.to_csv(filename, index=False)\n",
    "\n",
    "                test_df = pd.DataFrame({\n",
    "                        'Test_y': y_test,\n",
    "                        'Test_pred_y': test_pred })\n",
    "                filename = os.path.join(output_folder, f'tests_{os.path.basename(file)}_3070.csv')\n",
    "                test_df.to_csv(filename, index=False)'''\n",
    "                \n",
    "                train_mse = mean_squared_error(y_train, train_pred)\n",
    "                train_rmse = np.sqrt(train_mse)\n",
    "                train_r2 = r2_score(y_train, train_pred)\n",
    "                test_mse = mean_squared_error(y_test, test_pred)\n",
    "                test_rmse = np.sqrt(test_mse)\n",
    "                test_r2 = r2_score(y_test, test_pred)\n",
    "\n",
    "                result_df = result_df.append({\n",
    "                        'Dataset': os.path.basename(file),\n",
    "                        'Data_Split': split_ratio,\n",
    "                        'Features': feature_type,\n",
    "                        'Normalization': n,\n",
    "                        'Train_R2': train_r2,\n",
    "                        'Train_RMSE': train_rmse,\n",
    "                        'Test_R2': test_r2,\n",
    "                        'Test_RMSE': test_rmse\n",
    "                        }, ignore_index=True)\n",
    "\n",
    "                result_df.to_csv(filenamefinal, index=False)\n",
    "                print(\"Done\")\n"
   ]
  },
  {
   "cell_type": "markdown",
   "metadata": {},
   "source": [
    "# LSTM"
   ]
  },
  {
   "cell_type": "code",
   "execution_count": 2,
   "metadata": {},
   "outputs": [],
   "source": [
    "output_folder = 'C:/Users/genty/Hiwi-TimeSeries/output/8dataset/'\n",
    "#result_df = pd.DataFrame(columns=['Dataset', 'Data_Split', 'Features', 'RunTime', 'Train_R2', 'Train_RMSE', 'Test_R2', 'Test_RMSE'])\n",
    "result_df = pd.read_csv('C:/Users/genty/Hiwi-TimeSeries/output/8dataset/result_summary_lstm_newest.csv')\n",
    "filenamefinal = os.path.join(output_folder, f'result_summary_lstm_newest.csv')"
   ]
  },
  {
   "cell_type": "code",
   "execution_count": 8,
   "metadata": {},
   "outputs": [],
   "source": [
    "def normalize(X, y):\n",
    "    scaler_X = MinMaxScaler(feature_range=(0, 1))\n",
    "    scaler_y = MinMaxScaler(feature_range=(0, 1))\n",
    "    scaled_X = scaler_X.fit_transform(X)\n",
    "    scaled_y = scaler_y.fit_transform(y)\n",
    "\n",
    "    return scaler_X, scaler_y, scaled_X, scaled_y"
   ]
  },
  {
   "cell_type": "code",
   "execution_count": 9,
   "metadata": {},
   "outputs": [],
   "source": [
    "def denormalize(train_predict, y_train, test_predict, y_test, scaler_y):\n",
    "    train_predict_inv = scaler_y.inverse_transform(train_predict)\n",
    "    y_train_inv = scaler_y.inverse_transform(y_train)\n",
    "    test_predict_inv = scaler_y.inverse_transform(test_predict)\n",
    "    y_test_inv = scaler_y.inverse_transform(y_test)\n",
    "    \n",
    "    return train_predict_inv, y_train_inv, test_predict_inv, y_test_inv"
   ]
  },
  {
   "cell_type": "code",
   "execution_count": 10,
   "metadata": {},
   "outputs": [],
   "source": [
    "def create_dataset(X, y, time_step=60):\n",
    "    Xs, ys = [], []\n",
    "    for i in range(len(X) - time_step):\n",
    "        if isinstance(X, np.ndarray):\n",
    "            Xs.append(X[i:(i + time_step)])\n",
    "            ys.append(y[i + time_step])\n",
    "        else:\n",
    "            Xs.append(X.iloc[i:(i + time_step)].values)\n",
    "            ys.append(y.iloc[i + time_step].values)\n",
    "    return np.array(Xs), np.array(ys)"
   ]
  },
  {
   "cell_type": "code",
   "execution_count": 11,
   "metadata": {},
   "outputs": [],
   "source": [
    "def build_model(input_shape):\n",
    "    model = Sequential()\n",
    "    model.add(LSTM(64, return_sequences=True, input_shape=input_shape))\n",
    "    model.add(LSTM(32, return_sequences=False))\n",
    "    model.add(Dense(25))\n",
    "    model.add(Dense(1))\n",
    "    model.compile(optimizer=Adam(learning_rate=0.001), loss='mean_squared_error')\n",
    "    return model"
   ]
  },
  {
   "cell_type": "code",
   "execution_count": 13,
   "metadata": {},
   "outputs": [
    {
     "name": "stdout",
     "output_type": "stream",
     "text": [
      "File-split-0.2-features6\n",
      "File-split-0.2-features52\n",
      "File-split-0.3-features6\n"
     ]
    },
    {
     "name": "stderr",
     "output_type": "stream",
     "text": [
      "C:\\Users\\genty\\AppData\\Roaming\\Python\\Python312\\site-packages\\keras\\src\\layers\\rnn\\rnn.py:204: UserWarning: Do not pass an `input_shape`/`input_dim` argument to a layer. When using Sequential models, prefer using an `Input(shape)` object as the first layer in the model instead.\n",
      "  super().__init__(**kwargs)\n"
     ]
    },
    {
     "name": "stdout",
     "output_type": "stream",
     "text": [
      "\u001b[1m4780/4780\u001b[0m \u001b[32m━━━━━━━━━━━━━━━━━━━━\u001b[0m\u001b[37m\u001b[0m \u001b[1m52s\u001b[0m 11ms/step\n",
      "\u001b[1m11156/11156\u001b[0m \u001b[32m━━━━━━━━━━━━━━━━━━━━\u001b[0m\u001b[37m\u001b[0m \u001b[1m122s\u001b[0m 11ms/step\n",
      "File-split-0.3-features52\n",
      "File-split-0.4-features6\n",
      "File-split-0.4-features52\n",
      "File-split-0.5-features6\n",
      "File-split-0.5-features52\n",
      "File-split-0.6-features6\n",
      "File-split-0.6-features52\n",
      "File-split-0.7-features6\n",
      "File-split-0.7-features52\n",
      "File-split-0.8-features6\n",
      "File-split-0.8-features52\n"
     ]
    }
   ],
   "source": [
    "for file in file_path[4:5:2]:\n",
    "    df = pd.read_csv(file)\n",
    "    for split_ratio in data_split:\n",
    "        for f in feature_list:\n",
    "                print(f'File-split-{split_ratio}-features{len(f)}')\n",
    "                if ((split_ratio==0.3) and (len(f)==6)):\n",
    "                        feature_type = 'all' if len(f) == len(features) else 'subset'\n",
    "                        X = df[f]\n",
    "                        y = df[[target]]\n",
    "                        scaler_X, scaler_y, scaled_X, scaled_y = normalize(X, y)\n",
    "                        X = scaled_X\n",
    "                        y = scaled_y\n",
    "\n",
    "                        train_size = int(len(X) * split_ratio)\n",
    "                        test_size = len(X) - train_size\n",
    "                        X_train, X_test = X[:train_size], X[train_size:]\n",
    "                        y_train, y_test = y[:train_size], y[train_size:]\n",
    "\n",
    "                        \n",
    "                        time_step = 60\n",
    "                        X_train, y_train = create_dataset(X_train, y_train, time_step)\n",
    "                        X_test, y_test = create_dataset(X_test, y_test, time_step)\n",
    "\n",
    "                        input_shape = (X_train.shape[1], X_train.shape[2])\n",
    "                        model = build_model(input_shape)\n",
    "                        start_time = time.time()\n",
    "                        history = model.fit(X_train, y_train, epochs=30, batch_size=32, validation_data=(X_test, y_test), verbose=0)\n",
    "                        end_time = time.time()\n",
    "                        train_predict = model.predict(X_train)\n",
    "                        test_predict = model.predict(X_test)\n",
    "                        train_predict, y_train, test_predict, y_test = denormalize(train_predict, y_train, test_predict, y_test, scaler_y)\n",
    "\n",
    "\n",
    "                        train_df = pd.DataFrame({\n",
    "                                'Train_y': y_train.flatten(),\n",
    "                                'Train_pred_y': train_predict.flatten() })\n",
    "                        filename = os.path.join(output_folder, f'trains_{os.path.basename(file)}_sp{split_ratio}_{feature_type}.csv')\n",
    "                        train_df.to_csv(filename, index=False)\n",
    "\n",
    "                        test_df = pd.DataFrame({\n",
    "                                'Test_y': y_test.flatten(),\n",
    "                                'Test_pred_y': test_predict.flatten() })\n",
    "                        filename = os.path.join(output_folder, f'tests_{os.path.basename(file)}_sp{split_ratio}_{feature_type}.csv')\n",
    "                        test_df.to_csv(filename, index=False)\n",
    "                        \n",
    "                        runtime = end_time - start_time\n",
    "                        hours = int(runtime//3600)\n",
    "                        minutes = int((runtime%3600) //60)\n",
    "                        seconds = int(runtime%60)\n",
    "                        runtime = f\"{hours:02d}:{minutes:02d}:{seconds:02d}\"\n",
    "                        train_r2 = r2_score(y_train, train_predict)\n",
    "                        test_r2 = r2_score(y_test, test_predict)\n",
    "                        train_rmse = np.sqrt(mean_squared_error(y_train, train_predict))\n",
    "                        test_rmse = np.sqrt(mean_squared_error(y_test, test_predict))\n",
    "\n",
    "                        result_df = pd.concat([result_df, pd.DataFrame([{\n",
    "                                        'Dataset': os.path.basename(file),\n",
    "                                        'Data_Split': split_ratio,\n",
    "                                        'Features': feature_type,\n",
    "                                        'RunTime': runtime,\n",
    "                                        'Train_R2': train_r2,\n",
    "                                        'Test_R2': test_r2,\n",
    "                                        'Train_RMSE': train_rmse,\n",
    "                                        'Test_RMSE': test_rmse\n",
    "                                        }])], ignore_index=True)\n",
    "\n",
    "                        result_df.to_csv(filenamefinal, index=False)\n",
    "                "
   ]
  },
  {
   "cell_type": "code",
   "execution_count": null,
   "metadata": {},
   "outputs": [],
   "source": []
  }
 ],
 "metadata": {
  "kernelspec": {
   "display_name": "Python 3",
   "language": "python",
   "name": "python3"
  },
  "language_info": {
   "codemirror_mode": {
    "name": "ipython",
    "version": 3
   },
   "file_extension": ".py",
   "mimetype": "text/x-python",
   "name": "python",
   "nbconvert_exporter": "python",
   "pygments_lexer": "ipython3",
   "version": "3.12.7"
  }
 },
 "nbformat": 4,
 "nbformat_minor": 2
}
